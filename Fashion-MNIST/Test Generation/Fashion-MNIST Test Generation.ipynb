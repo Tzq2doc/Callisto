{
 "cells": [
  {
   "cell_type": "markdown",
   "metadata": {},
   "source": [
    "# Callisto Test Generation for Fashion MNIST"
   ]
  },
  {
   "cell_type": "markdown",
   "metadata": {},
   "source": [
    "### Dependencies\n",
    "* Python 3\n",
    "* Keras\n",
    "* Tensorflow==1.15.0\n",
    "* Random\n",
    "* Pickle\n",
    "* Math\n",
    "* Matplotlib\n",
    "* OpenCV\n",
    "* h5py\n"
   ]
  },
  {
   "cell_type": "code",
   "execution_count": 1,
   "metadata": {},
   "outputs": [
    {
     "name": "stderr",
     "output_type": "stream",
     "text": [
      "Using TensorFlow backend.\n"
     ]
    }
   ],
   "source": [
    "import tensorflow.keras as keras\n",
    "from keras.utils import to_categorical\n",
    "from keras.models import Sequential\n",
    "from keras.layers import Dense,Conv2D,MaxPooling2D,Flatten\n",
    "import numpy as np\n",
    "from tensorflow.examples.tutorials.mnist import input_data\n",
    "import matplotlib.pyplot as plt\n",
    "import math\n",
    "import cv2\n",
    "from keras.datasets import fashion_mnist\n",
    "from sklearn.metrics import confusion_matrix\n",
    "from keras.models import Model\n",
    "import _pickle as pickle\n",
    "import copy\n",
    "import random\n",
    "import tensorflow as tf"
   ]
  },
  {
   "cell_type": "markdown",
   "metadata": {},
   "source": [
    "### Please download the pre-trained Fashion MNIST model [here](https://drive.google.com/file/d/1G6F9oppcZveWdZa6wmXf18vfqC6tieUn/view?usp=sharing) and save it in the \"models\" folder under MNIST-Digit\n",
    "\n",
    "### MD5 checksum = 555060f85df317e17df4a871f06ce71b"
   ]
  },
  {
   "cell_type": "code",
   "execution_count": 2,
   "metadata": {},
   "outputs": [],
   "source": [
    "model1_file = \"../models/Fashion-MNIST.h5py\""
   ]
  },
  {
   "cell_type": "markdown",
   "metadata": {},
   "source": [
    "#### Please change 'MINI_DATASET_TEST' to False if you want to run the full MNIST dataset. Once it is set to true, the test generation framework will only run for a subset images in the interest of time. "
   ]
  },
  {
   "cell_type": "code",
   "execution_count": 3,
   "metadata": {},
   "outputs": [],
   "source": [
    "MINI_DATASET_TEST = True\n",
    "MINI_DATASET_N = 1000"
   ]
  },
  {
   "cell_type": "code",
   "execution_count": 4,
   "metadata": {},
   "outputs": [],
   "source": [
    "#Importing the training and testing data\n",
    "(x_train, y_train), (x_test, y_test) = fashion_mnist.load_data()\n",
    "x_train= x_train.reshape(-1,28,28,1)\n",
    "x_test = x_test.reshape(-1,28,28,1)\n",
    "\n",
    "#Converting the labels to a categorical form\n",
    "y_train=to_categorical(y_train, num_classes=10)\n",
    "y_test=to_categorical(y_test, num_classes=10)\n",
    "\n",
    "if MINI_DATASET_TEST:\n",
    "    x_train = x_train[:MINI_DATASET_N]\n",
    "    x_test = x_test[:MINI_DATASET_N]\n",
    "    y_train = y_train[:MINI_DATASET_N]\n",
    "    y_test = y_test[:MINI_DATASET_N]"
   ]
  },
  {
   "cell_type": "code",
   "execution_count": 5,
   "metadata": {},
   "outputs": [
    {
     "name": "stderr",
     "output_type": "stream",
     "text": [
      "WARNING: Logging before flag parsing goes to stderr.\n",
      "W1207 23:30:41.971482 4472839488 deprecation.py:506] From /usr/local/lib/python3.7/site-packages/tensorflow_core/python/ops/resource_variable_ops.py:1630: calling BaseResourceVariable.__init__ (from tensorflow.python.ops.resource_variable_ops) with constraint is deprecated and will be removed in a future version.\n",
      "Instructions for updating:\n",
      "If using Keras pass *_constraint arguments to layers.\n",
      "W1207 23:30:41.982048 4472839488 module_wrapper.py:139] From /usr/local/lib/python3.7/site-packages/keras/backend/tensorflow_backend.py:4070: The name tf.nn.max_pool is deprecated. Please use tf.nn.max_pool2d instead.\n",
      "\n"
     ]
    }
   ],
   "source": [
    "#Model architechture\n",
    "model1=Sequential()\n",
    "model1.add(Conv2D(8, kernel_size=(3, 3), strides=(1, 1),padding=\"same\",\n",
    "                 kernel_initializer='random_uniform',\n",
    "                bias_initializer='random_uniform',\n",
    "                 activation='relu',input_shape=[28,28,1]))\n",
    "model1.add(MaxPooling2D(pool_size=(2,2),strides=(2,2),padding=\"valid\"))\n",
    "model1.add(Conv2D(16,kernel_size=(3,3),strides=(1,1),padding=\"same\",\n",
    "                kernel_initializer='random_uniform',\n",
    "                bias_initializer='random_uniform',\n",
    "                activation=\"relu\"))\n",
    "model1.add(MaxPooling2D(pool_size=(2,2),strides=(2,2),padding=\"valid\"))\n",
    "model1.add(Flatten())\n",
    "model1.add(Dense(100,activation=\"relu\",kernel_initializer='random_uniform',\n",
    "                bias_initializer='zeros'))\n",
    "model1.add(Dense(10,activation=\"softmax\",kernel_initializer='random_uniform',\n",
    "                bias_initializer='zeros'))"
   ]
  },
  {
   "cell_type": "code",
   "execution_count": 6,
   "metadata": {},
   "outputs": [],
   "source": [
    "model1.compile(optimizer='adam',\n",
    "              loss='categorical_crossentropy',\n",
    "              metrics=['accuracy'])"
   ]
  },
  {
   "cell_type": "code",
   "execution_count": 7,
   "metadata": {},
   "outputs": [],
   "source": [
    "model1.load_weights(model1_file)"
   ]
  },
  {
   "cell_type": "code",
   "execution_count": 8,
   "metadata": {},
   "outputs": [
    {
     "name": "stderr",
     "output_type": "stream",
     "text": [
      "W1207 23:30:42.177523 4472839488 module_wrapper.py:139] From /usr/local/lib/python3.7/site-packages/keras/backend/tensorflow_backend.py:422: The name tf.global_variables is deprecated. Please use tf.compat.v1.global_variables instead.\n",
      "\n"
     ]
    },
    {
     "name": "stdout",
     "output_type": "stream",
     "text": [
      "1000/1000 [==============================] - 0s 106us/step\n",
      "Test accuracy: 0.8949999809265137\n"
     ]
    }
   ],
   "source": [
    "test_loss, test_acc = model1.evaluate(x_test, y_test)\n",
    "\n",
    "print('Test accuracy:', test_acc)"
   ]
  },
  {
   "cell_type": "code",
   "execution_count": 9,
   "metadata": {},
   "outputs": [],
   "source": [
    "layer_outputs = [layer.output for layer in model1.layers]\n",
    "\n",
    "activation_model = Model(inputs=model1.input, outputs=layer_outputs)"
   ]
  },
  {
   "cell_type": "markdown",
   "metadata": {},
   "source": [
    "### all_train_acts.pickle contains all the activations of the training data. This is necesscary for Callisto to calculate the shannon indices of the image input. Please download the file [here](https://drive.google.com/file/d/1xyoIpkv-L0SxMyxGnkSZzBd2JkiqTVJi/view?usp=sharing). The file should be saved in the \"saved_pickles\" folder Fashion-MNIST\n",
    "\n",
    "### MD5 Sum = 8c82cbfa445c5626bbd207de514e1fab"
   ]
  },
  {
   "cell_type": "code",
   "execution_count": 10,
   "metadata": {},
   "outputs": [],
   "source": [
    "with open('../saved_pickles/all_train_acts.pickle', 'rb') as handle: \n",
    "     all_acts = pickle.load(handle)\n",
    "        \n",
    "if MINI_DATASET_TEST:\n",
    "    all_acts = all_acts[:MINI_DATASET_N]"
   ]
  },
  {
   "cell_type": "code",
   "execution_count": 11,
   "metadata": {},
   "outputs": [],
   "source": [
    "def shannon(arrs):\n",
    "    shannons = []\n",
    "    for arr in arrs:\n",
    "        sum = 0\n",
    "        for i in arr:\n",
    "            sum += (i*np.log(i))\n",
    "        shannons.append(sum * -1.0)\n",
    "    return shannons"
   ]
  },
  {
   "cell_type": "code",
   "execution_count": 12,
   "metadata": {},
   "outputs": [
    {
     "name": "stderr",
     "output_type": "stream",
     "text": [
      "/usr/local/lib/python3.7/site-packages/ipykernel_launcher.py:6: RuntimeWarning: divide by zero encountered in log\n",
      "  \n",
      "/usr/local/lib/python3.7/site-packages/ipykernel_launcher.py:6: RuntimeWarning: invalid value encountered in float_scalars\n",
      "  \n"
     ]
    }
   ],
   "source": [
    "all_shannons = shannon(all_acts)"
   ]
  },
  {
   "cell_type": "code",
   "execution_count": 13,
   "metadata": {},
   "outputs": [
    {
     "name": "stdout",
     "output_type": "stream",
     "text": [
      "low_shannon_true: 501\n"
     ]
    }
   ],
   "source": [
    "low_shannon_true = []\n",
    "for i in range(len(all_shannons)):\n",
    "    if all_shannons[i] < 0.001 and np.argmax(all_acts[i]) == np.argmax(y_train[i]) : \n",
    "        low_shannon_true.append(i)\n",
    "        \n",
    "print(\"low_shannon_true:\", len(low_shannon_true))"
   ]
  },
  {
   "cell_type": "code",
   "execution_count": 14,
   "metadata": {},
   "outputs": [],
   "source": [
    "rows,cols = (28, 28)\n",
    "M = np.float32([[1,0,2],[0,1,2]])"
   ]
  },
  {
   "cell_type": "code",
   "execution_count": 15,
   "metadata": {},
   "outputs": [
    {
     "name": "stdout",
     "output_type": "stream",
     "text": [
      "Original Image\n"
     ]
    },
    {
     "data": {
      "image/png": "[encoded data removed]",
      "text/plain": [
       "<Figure size 432x288 with 1 Axes>"
      ]
     },
     "metadata": {
      "needs_background": "light"
     },
     "output_type": "display_data"
    }
   ],
   "source": [
    "print(\"Original Image\")\n",
    "img = x_train[0]\n",
    "label = y_train[0]\n",
    "plt.imshow(img.reshape(28,28), cmap=plt.cm.binary)\n",
    "plt.show()"
   ]
  },
  {
   "cell_type": "code",
   "execution_count": 16,
   "metadata": {},
   "outputs": [],
   "source": [
    "# Panning Transformation in openCV\n",
    "rows,cols = (28, 28)\n",
    "M = np.float32([[1,0,2],[0,1,2]])"
   ]
  },
  {
   "cell_type": "code",
   "execution_count": 17,
   "metadata": {},
   "outputs": [
    {
     "name": "stdout",
     "output_type": "stream",
     "text": [
      "Transformation: Panning\n"
     ]
    },
    {
     "data": {
      "image/png": "[encoded data removed]",
      "text/plain": [
       "<Figure size 432x288 with 1 Axes>"
      ]
     },
     "metadata": {
      "needs_background": "light"
     },
     "output_type": "display_data"
    }
   ],
   "source": [
    "print(\"Transformation: Panning\")\n",
    "rows,cols = (28, 28)\n",
    "M = np.float32([[1,0,2],[0,1,2]])\n",
    "dst = cv2.warpAffine(img,M,(cols,rows))\n",
    "plt.imshow(dst, cmap=plt.cm.binary)\n",
    "plt.show()"
   ]
  },
  {
   "cell_type": "code",
   "execution_count": 18,
   "metadata": {},
   "outputs": [
    {
     "name": "stdout",
     "output_type": "stream",
     "text": [
      "Transformation: Panning\n",
      "Shannon Treshold : < 0.001\n",
      "Number of inputs:  501\n",
      "Error Rate:  0.19760479041916168\n"
     ]
    }
   ],
   "source": [
    "print(\"Transformation: Panning\")\n",
    "cols,rows = 28, 28\n",
    "count_made_false_low_shannon_true = 0\n",
    "for i in low_shannon_true:\n",
    "    img = x_train[i]\n",
    "    label = y_train[i]\n",
    "    img = (np.expand_dims(img,0))\n",
    "    img_pred = activation_model.predict(img)[6][0]\n",
    "    \n",
    "    dst = cv2.warpAffine(x_train[i],M,(28,28)).reshape(28,28,1)\n",
    "    dst = (np.expand_dims(dst,0))\n",
    "    dst_pred = activation_model.predict(dst)[6][0]\n",
    "    \n",
    "    if (np.argmax(img_pred) != np.argmax(dst_pred)):\n",
    "        count_made_false_low_shannon_true += 1\n",
    "\n",
    "\n",
    "print(\"Shannon Treshold : < 0.001\")        \n",
    "print(\"Number of inputs: \", len(low_shannon_true))        \n",
    "print(\"Error Rate: \", (count_made_false_low_shannon_true*1.0)/len(low_shannon_true))"
   ]
  },
  {
   "cell_type": "code",
   "execution_count": 19,
   "metadata": {},
   "outputs": [
    {
     "name": "stdout",
     "output_type": "stream",
     "text": [
      "Transformation: Panning\n",
      "Shannon Treshold : > 0.01\n",
      "Number of inputs:  334\n",
      "Error Rates : 0.4820359281437126\n",
      "\n",
      "Shannon Treshold : > 0.025\n",
      "Number of inputs:  283\n",
      "Error Rates : 0.49469964664310956\n",
      "\n",
      "Shannon Treshold : > 0.05\n",
      "Number of inputs:  239\n",
      "Error Rates : 0.49372384937238495\n",
      "\n",
      "Shannon Treshold : > 0.1\n",
      "Number of inputs:  181\n",
      "Error Rates : 0.5193370165745856\n",
      "\n",
      "Shannon Treshold : > 0.2\n",
      "Number of inputs:  132\n",
      "Error Rates : 0.553030303030303\n",
      "\n",
      "Shannon Treshold : > 0.3\n",
      "Number of inputs:  103\n",
      "Error Rates : 0.5631067961165048\n",
      "\n",
      "Shannon Treshold : > 0.4\n",
      "Number of inputs:  78\n",
      "Error Rates : 0.5512820512820513\n",
      "\n",
      "Shannon Treshold : > 0.5\n",
      "Number of inputs:  59\n",
      "Error Rates : 0.5932203389830508\n",
      "\n",
      "Shannon Treshold : > 0.6\n",
      "Number of inputs:  51\n",
      "Error Rates : 0.6078431372549019\n",
      "\n",
      "Shannon Treshold : > 0.7\n",
      "Number of inputs:  31\n",
      "Error Rates : 0.7096774193548387\n",
      "\n",
      "Shannon Treshold : > 0.8\n",
      "Number of inputs:  16\n",
      "Error Rates : 0.75\n",
      "\n",
      "Shannon Treshold : > 0.9\n",
      "Number of inputs:  14\n",
      "Error Rates : 0.7142857142857143\n",
      "\n",
      "Shannon Treshold : > 1.0\n",
      "Number of inputs:  10\n",
      "Error Rates : 0.8\n",
      "\n"
     ]
    }
   ],
   "source": [
    "print(\"Transformation: Panning\")\n",
    "thresholds = [0.01, 0.025, 0.05, 0.1, 0.2, 0.3, 0.4, 0.5, 0.6, 0.7, 0.8, 0.9, 1.0]\n",
    "\n",
    "for threshold in thresholds:\n",
    "    high_shannon_true = []\n",
    "    for i, shannon_index in enumerate(all_shannons):\n",
    "        if shannon_index > threshold and (np.argmax(all_acts[i]) == np.argmax(y_train[i])) : \n",
    "            high_shannon_true.append(i)\n",
    "\n",
    "    print(\"Shannon Treshold : >\", threshold)\n",
    "    print(\"Number of inputs: \", len(high_shannon_true))\n",
    "\n",
    "    count_made_false_high_shannon_true = 0\n",
    "    \n",
    "    if len(high_shannon_true) > 0:\n",
    "        for i in high_shannon_true:\n",
    "            img = x_train[i]\n",
    "            label = y_train[i]\n",
    "            img = (np.expand_dims(img,0))\n",
    "            img_pred = activation_model.predict(img)[6][0]\n",
    "\n",
    "            dst = cv2.warpAffine(x_train[i],M,(28,28)).reshape(28,28,1)\n",
    "            dst = (np.expand_dims(dst,0))\n",
    "            dst_pred = activation_model.predict(dst)[6][0]\n",
    "            if (np.argmax(img_pred) != np.argmax(dst_pred)):\n",
    "                count_made_false_high_shannon_true += 1\n",
    "\n",
    "        print(\"Error Rates :\", (count_made_false_high_shannon_true*1.0)/len(high_shannon_true))\n",
    "        \n",
    "    else:\n",
    "        print(\"No inputs with shannon index more than \", threshold)\n",
    "        \n",
    "    print(\"\")"
   ]
  },
  {
   "cell_type": "code",
   "execution_count": 20,
   "metadata": {},
   "outputs": [
    {
     "name": "stdout",
     "output_type": "stream",
     "text": [
      "Transformation: 2D rotation\n"
     ]
    },
    {
     "data": {
      "image/png": "[encoded data removed]",
      "text/plain": [
       "<Figure size 432x288 with 1 Axes>"
      ]
     },
     "metadata": {
      "needs_background": "light"
     },
     "output_type": "display_data"
    }
   ],
   "source": [
    "print(\"Transformation: 2D rotation\")\n",
    "rows,cols = (28, 28)\n",
    "M = cv2.getRotationMatrix2D((cols/2,rows/2),30,1)\n",
    "img = x_train[0]\n",
    "dst = cv2.warpAffine(img,M,(cols,rows))\n",
    "plt.imshow(dst, cmap=plt.cm.binary)\n",
    "plt.show()"
   ]
  },
  {
   "cell_type": "code",
   "execution_count": 21,
   "metadata": {},
   "outputs": [
    {
     "name": "stdout",
     "output_type": "stream",
     "text": [
      "Transformation: Rotation\n",
      "Shannon Treshold : < 0.001\n",
      "Number of inputs:  501\n",
      "Error Rate:  0.5988023952095808\n"
     ]
    }
   ],
   "source": [
    "print(\"Transformation: Rotation\")\n",
    "cols,rows = 28, 28\n",
    "count_made_false_low_shannon_true = 0\n",
    "for i in low_shannon_true:\n",
    "    img = x_train[i]\n",
    "    label = y_train[i]\n",
    "    img = (np.expand_dims(img,0))\n",
    "    img_pred = activation_model.predict(img)[6][0]\n",
    "    \n",
    "    dst = cv2.warpAffine(x_train[i],M,(28,28)).reshape(28,28,1)\n",
    "    dst = (np.expand_dims(dst,0))\n",
    "    dst_pred = activation_model.predict(dst)[6][0]\n",
    "    \n",
    "    if (np.argmax(img_pred) != np.argmax(dst_pred)):\n",
    "        count_made_false_low_shannon_true += 1\n",
    "\n",
    "\n",
    "print(\"Shannon Treshold : < 0.001\")        \n",
    "print(\"Number of inputs: \", len(low_shannon_true))        \n",
    "print(\"Error Rate: \", (count_made_false_low_shannon_true*1.0)/len(low_shannon_true))"
   ]
  },
  {
   "cell_type": "code",
   "execution_count": 22,
   "metadata": {},
   "outputs": [
    {
     "name": "stdout",
     "output_type": "stream",
     "text": [
      "Transformation: Rotation\n",
      "Shannon Treshold : > 0.01\n",
      "Number of inputs:  334\n",
      "Error Rates : 0.7664670658682635\n",
      "\n",
      "Shannon Treshold : > 0.025\n",
      "Number of inputs:  283\n",
      "Error Rates : 0.7809187279151943\n",
      "\n",
      "Shannon Treshold : > 0.05\n",
      "Number of inputs:  239\n",
      "Error Rates : 0.7866108786610879\n",
      "\n",
      "Shannon Treshold : > 0.1\n",
      "Number of inputs:  181\n",
      "Error Rates : 0.7790055248618785\n",
      "\n",
      "Shannon Treshold : > 0.2\n",
      "Number of inputs:  132\n",
      "Error Rates : 0.7575757575757576\n",
      "\n",
      "Shannon Treshold : > 0.3\n",
      "Number of inputs:  103\n",
      "Error Rates : 0.7669902912621359\n",
      "\n",
      "Shannon Treshold : > 0.4\n",
      "Number of inputs:  78\n",
      "Error Rates : 0.7948717948717948\n",
      "\n",
      "Shannon Treshold : > 0.5\n",
      "Number of inputs:  59\n",
      "Error Rates : 0.8305084745762712\n",
      "\n",
      "Shannon Treshold : > 0.6\n",
      "Number of inputs:  51\n",
      "Error Rates : 0.8431372549019608\n",
      "\n",
      "Shannon Treshold : > 0.7\n",
      "Number of inputs:  31\n",
      "Error Rates : 0.8387096774193549\n",
      "\n",
      "Shannon Treshold : > 0.8\n",
      "Number of inputs:  16\n",
      "Error Rates : 0.875\n",
      "\n",
      "Shannon Treshold : > 0.9\n",
      "Number of inputs:  14\n",
      "Error Rates : 0.9285714285714286\n",
      "\n",
      "Shannon Treshold : > 1.0\n",
      "Number of inputs:  10\n",
      "Error Rates : 0.9\n",
      "\n"
     ]
    }
   ],
   "source": [
    "print(\"Transformation: Rotation\")\n",
    "thresholds = [0.01, 0.025, 0.05, 0.1, 0.2, 0.3, 0.4, 0.5, 0.6, 0.7, 0.8, 0.9, 1.0]\n",
    "\n",
    "for threshold in thresholds:\n",
    "    high_shannon_true = []\n",
    "    for i, shannon_index in enumerate(all_shannons):\n",
    "        if shannon_index > threshold and (np.argmax(all_acts[i]) == np.argmax(y_train[i])) : \n",
    "            high_shannon_true.append(i)\n",
    "\n",
    "    print(\"Shannon Treshold : >\", threshold)\n",
    "    print(\"Number of inputs: \", len(high_shannon_true))\n",
    "\n",
    "    count_made_false_high_shannon_true = 0\n",
    "    \n",
    "    if len(high_shannon_true) > 0:\n",
    "        for i in high_shannon_true:\n",
    "            img = x_train[i]\n",
    "            label = y_train[i]\n",
    "            img = (np.expand_dims(img,0))\n",
    "            img_pred = activation_model.predict(img)[6][0]\n",
    "\n",
    "            dst = cv2.warpAffine(x_train[i],M,(28,28)).reshape(28,28,1)\n",
    "            dst = (np.expand_dims(dst,0))\n",
    "            dst_pred = activation_model.predict(dst)[6][0]\n",
    "            if (np.argmax(img_pred) != np.argmax(dst_pred)):\n",
    "                count_made_false_high_shannon_true += 1\n",
    "\n",
    "        print(\"Error Rates :\", (count_made_false_high_shannon_true*1.0)/len(high_shannon_true))\n",
    "        \n",
    "    else:\n",
    "        print(\"No inputs with shannon index more than \", threshold)\n",
    "        \n",
    "    print(\"\")"
   ]
  },
  {
   "cell_type": "code",
   "execution_count": 23,
   "metadata": {},
   "outputs": [
    {
     "name": "stdout",
     "output_type": "stream",
     "text": [
      "Transformation: Affine\n"
     ]
    },
    {
     "data": {
      "image/png": "[encoded data removed]",
      "text/plain": [
       "<Figure size 432x288 with 1 Axes>"
      ]
     },
     "metadata": {
      "needs_background": "light"
     },
     "output_type": "display_data"
    }
   ],
   "source": [
    "print(\"Transformation: Affine\")\n",
    "rows,cols = (28, 28)\n",
    "pts1 = np.float32([[5,5],[24,5],[5,24]])\n",
    "pts2 = np.float32([[1,10],[20,5],[10,25]])\n",
    "M = cv2.getAffineTransform(pts1,pts2)\n",
    "img = x_train[0]\n",
    "dst = cv2.warpAffine(img,M,(cols,rows))\n",
    "plt.imshow(dst, cmap=plt.cm.binary)\n",
    "plt.show()"
   ]
  },
  {
   "cell_type": "code",
   "execution_count": 24,
   "metadata": {},
   "outputs": [
    {
     "name": "stdout",
     "output_type": "stream",
     "text": [
      "Transformation: Affine\n",
      "Shannon Treshold : < 0.001\n",
      "Number of inputs:  501\n",
      "Error Rate:  0.39520958083832336\n"
     ]
    }
   ],
   "source": [
    "print(\"Transformation: Affine\")\n",
    "cols,rows = 28, 28\n",
    "count_made_false_low_shannon_true = 0\n",
    "for i in low_shannon_true:\n",
    "    img = x_train[i]\n",
    "    label = y_train[i]\n",
    "    img = (np.expand_dims(img,0))\n",
    "    img_pred = activation_model.predict(img)[6][0]\n",
    "    \n",
    "    dst = cv2.warpAffine(x_train[i],M,(28,28)).reshape(28,28,1)\n",
    "    dst = (np.expand_dims(dst,0))\n",
    "    dst_pred = activation_model.predict(dst)[6][0]\n",
    "    \n",
    "    if (np.argmax(img_pred) != np.argmax(dst_pred)):\n",
    "        count_made_false_low_shannon_true += 1\n",
    "\n",
    "\n",
    "print(\"Shannon Treshold : < 0.001\")        \n",
    "print(\"Number of inputs: \", len(low_shannon_true))        \n",
    "print(\"Error Rate: \", (count_made_false_low_shannon_true*1.0)/len(low_shannon_true))"
   ]
  },
  {
   "cell_type": "code",
   "execution_count": 25,
   "metadata": {},
   "outputs": [
    {
     "name": "stdout",
     "output_type": "stream",
     "text": [
      "Transformation: Affine\n",
      "Shannon Treshold : > 0.01\n",
      "Number of inputs:  334\n",
      "Error Rates : 0.7544910179640718\n",
      "\n",
      "Shannon Treshold : > 0.025\n",
      "Number of inputs:  283\n",
      "Error Rates : 0.7879858657243817\n",
      "\n",
      "Shannon Treshold : > 0.05\n",
      "Number of inputs:  239\n",
      "Error Rates : 0.7949790794979079\n",
      "\n",
      "Shannon Treshold : > 0.1\n",
      "Number of inputs:  181\n",
      "Error Rates : 0.8121546961325967\n",
      "\n",
      "Shannon Treshold : > 0.2\n",
      "Number of inputs:  132\n",
      "Error Rates : 0.8106060606060606\n",
      "\n",
      "Shannon Treshold : > 0.3\n",
      "Number of inputs:  103\n",
      "Error Rates : 0.8155339805825242\n",
      "\n",
      "Shannon Treshold : > 0.4\n",
      "Number of inputs:  78\n",
      "Error Rates : 0.8717948717948718\n",
      "\n",
      "Shannon Treshold : > 0.5\n",
      "Number of inputs:  59\n",
      "Error Rates : 0.8983050847457628\n",
      "\n",
      "Shannon Treshold : > 0.6\n",
      "Number of inputs:  51\n",
      "Error Rates : 0.9019607843137255\n",
      "\n",
      "Shannon Treshold : > 0.7\n",
      "Number of inputs:  31\n",
      "Error Rates : 0.8709677419354839\n",
      "\n",
      "Shannon Treshold : > 0.8\n",
      "Number of inputs:  16\n",
      "Error Rates : 0.875\n",
      "\n",
      "Shannon Treshold : > 0.9\n",
      "Number of inputs:  14\n",
      "Error Rates : 0.9285714285714286\n",
      "\n",
      "Shannon Treshold : > 1.0\n",
      "Number of inputs:  10\n",
      "Error Rates : 0.9\n",
      "\n"
     ]
    }
   ],
   "source": [
    "print(\"Transformation: Affine\")\n",
    "thresholds = [0.01, 0.025, 0.05, 0.1, 0.2, 0.3, 0.4, 0.5, 0.6, 0.7, 0.8, 0.9, 1.0]\n",
    "\n",
    "for threshold in thresholds:\n",
    "    high_shannon_true = []\n",
    "    for i, shannon_index in enumerate(all_shannons):\n",
    "        if shannon_index > threshold and (np.argmax(all_acts[i]) == np.argmax(y_train[i])) : \n",
    "            high_shannon_true.append(i)\n",
    "\n",
    "    print(\"Shannon Treshold : >\", threshold)\n",
    "    print(\"Number of inputs: \", len(high_shannon_true))\n",
    "\n",
    "    count_made_false_high_shannon_true = 0\n",
    "    \n",
    "    if len(high_shannon_true) > 0:\n",
    "        for i in high_shannon_true:\n",
    "            img = x_train[i]\n",
    "            label = y_train[i]\n",
    "            img = (np.expand_dims(img,0))\n",
    "            img_pred = activation_model.predict(img)[6][0]\n",
    "\n",
    "            dst = cv2.warpAffine(x_train[i],M,(28,28)).reshape(28,28,1)\n",
    "            dst = (np.expand_dims(dst,0))\n",
    "            dst_pred = activation_model.predict(dst)[6][0]\n",
    "            if (np.argmax(img_pred) != np.argmax(dst_pred)):\n",
    "                count_made_false_high_shannon_true += 1\n",
    "\n",
    "        print(\"Error Rates :\", (count_made_false_high_shannon_true*1.0)/len(high_shannon_true))\n",
    "        \n",
    "    else:\n",
    "        print(\"No inputs with shannon index more than \", threshold)\n",
    "        \n",
    "    print(\"\")"
   ]
  },
  {
   "cell_type": "code",
   "execution_count": 26,
   "metadata": {},
   "outputs": [
    {
     "name": "stdout",
     "output_type": "stream",
     "text": [
      "Transformation: Perspective\n"
     ]
    },
    {
     "data": {
      "image/png": "[encoded data removed]",
      "text/plain": [
       "<Figure size 432x288 with 1 Axes>"
      ]
     },
     "metadata": {
      "needs_background": "light"
     },
     "output_type": "display_data"
    }
   ],
   "source": [
    "print(\"Transformation: Perspective\")\n",
    "rows,cols = (28, 28)\n",
    "pts1 = np.float32([[1,1],[25,1],[1,25],[25,25]])\n",
    "pts2 = np.float32([[0,0],[28,0],[0,28],[28,28]])\n",
    "M = cv2.getPerspectiveTransform(pts1,pts2)\n",
    "img = x_train[0]\n",
    "dst = cv2.warpPerspective(img,M,(cols,rows))\n",
    "plt.imshow(dst, cmap=plt.cm.binary)\n",
    "plt.show()"
   ]
  },
  {
   "cell_type": "code",
   "execution_count": 27,
   "metadata": {},
   "outputs": [
    {
     "name": "stdout",
     "output_type": "stream",
     "text": [
      "Transformation: Perspective\n",
      "Shannon Treshold : < 0.001\n",
      "Number of inputs:  501\n",
      "Error Rate:  0.07584830339321358\n"
     ]
    }
   ],
   "source": [
    "print(\"Transformation: Perspective\")\n",
    "cols,rows = 28, 28\n",
    "count_made_false_low_shannon_true = 0\n",
    "for i in low_shannon_true:\n",
    "    img = x_train[i]\n",
    "    label = y_train[i]\n",
    "    img = (np.expand_dims(img,0))\n",
    "    img_pred = activation_model.predict(img)[6][0]\n",
    "    \n",
    "    dst = cv2.warpPerspective(x_train[i],M,(28,28)).reshape(28,28,1)\n",
    "    dst = (np.expand_dims(dst,0))\n",
    "    dst_pred = activation_model.predict(dst)[6][0]\n",
    "    \n",
    "    if (np.argmax(img_pred) != np.argmax(dst_pred)):\n",
    "        count_made_false_low_shannon_true += 1\n",
    "\n",
    "\n",
    "print(\"Shannon Treshold : < 0.001\")        \n",
    "print(\"Number of inputs: \", len(low_shannon_true))        \n",
    "print(\"Error Rate: \", (count_made_false_low_shannon_true*1.0)/len(low_shannon_true))"
   ]
  },
  {
   "cell_type": "code",
   "execution_count": 28,
   "metadata": {},
   "outputs": [
    {
     "name": "stdout",
     "output_type": "stream",
     "text": [
      "Transformation: Perspective\n",
      "Shannon Treshold : > 0.01\n",
      "Number of inputs:  334\n",
      "Error Rates : 0.4311377245508982\n",
      "\n",
      "Shannon Treshold : > 0.025\n",
      "Number of inputs:  283\n",
      "Error Rates : 0.4628975265017668\n",
      "\n",
      "Shannon Treshold : > 0.05\n",
      "Number of inputs:  239\n",
      "Error Rates : 0.4811715481171548\n",
      "\n",
      "Shannon Treshold : > 0.1\n",
      "Number of inputs:  181\n",
      "Error Rates : 0.5138121546961326\n",
      "\n",
      "Shannon Treshold : > 0.2\n",
      "Number of inputs:  132\n",
      "Error Rates : 0.5454545454545454\n",
      "\n",
      "Shannon Treshold : > 0.3\n",
      "Number of inputs:  103\n",
      "Error Rates : 0.5436893203883495\n",
      "\n",
      "Shannon Treshold : > 0.4\n",
      "Number of inputs:  78\n",
      "Error Rates : 0.5769230769230769\n",
      "\n",
      "Shannon Treshold : > 0.5\n",
      "Number of inputs:  59\n",
      "Error Rates : 0.6440677966101694\n",
      "\n",
      "Shannon Treshold : > 0.6\n",
      "Number of inputs:  51\n",
      "Error Rates : 0.6470588235294118\n",
      "\n",
      "Shannon Treshold : > 0.7\n",
      "Number of inputs:  31\n",
      "Error Rates : 0.6774193548387096\n",
      "\n",
      "Shannon Treshold : > 0.8\n",
      "Number of inputs:  16\n",
      "Error Rates : 0.6875\n",
      "\n",
      "Shannon Treshold : > 0.9\n",
      "Number of inputs:  14\n",
      "Error Rates : 0.7142857142857143\n",
      "\n",
      "Shannon Treshold : > 1.0\n",
      "Number of inputs:  10\n",
      "Error Rates : 0.8\n",
      "\n"
     ]
    }
   ],
   "source": [
    "print(\"Transformation: Perspective\")\n",
    "thresholds = [0.01, 0.025, 0.05, 0.1, 0.2, 0.3, 0.4, 0.5, 0.6, 0.7, 0.8, 0.9, 1.0]\n",
    "\n",
    "for threshold in thresholds:\n",
    "    high_shannon_true = []\n",
    "    for i, shannon_index in enumerate(all_shannons):\n",
    "        if shannon_index > threshold and (np.argmax(all_acts[i]) == np.argmax(y_train[i])) : \n",
    "            high_shannon_true.append(i)\n",
    "\n",
    "    print(\"Shannon Treshold : >\", threshold)\n",
    "    print(\"Number of inputs: \", len(high_shannon_true))\n",
    "\n",
    "    count_made_false_high_shannon_true = 0\n",
    "    \n",
    "    if len(high_shannon_true) > 0:\n",
    "        for i in high_shannon_true:\n",
    "            img = x_train[i]\n",
    "            label = y_train[i]\n",
    "            img = (np.expand_dims(img,0))\n",
    "            img_pred = activation_model.predict(img)[6][0]\n",
    "\n",
    "            dst = cv2.warpPerspective(x_train[i],M,(28,28)).reshape(28,28,1)\n",
    "            dst = (np.expand_dims(dst,0))\n",
    "            dst_pred = activation_model.predict(dst)[6][0]\n",
    "            if (np.argmax(img_pred) != np.argmax(dst_pred)):\n",
    "                count_made_false_high_shannon_true += 1\n",
    "\n",
    "        print(\"Error Rates :\", (count_made_false_high_shannon_true*1.0)/len(high_shannon_true))\n",
    "        \n",
    "    else:\n",
    "        print(\"No inputs with shannon index more than \", threshold)\n",
    "        \n",
    "    print(\"\")"
   ]
  },
  {
   "cell_type": "code",
   "execution_count": null,
   "metadata": {},
   "outputs": [],
   "source": []
  }
 ],
 "metadata": {
  "kernelspec": {
   "display_name": "Python 3",
   "language": "python",
   "name": "python3"
  },
  "language_info": {
   "codemirror_mode": {
    "name": "ipython",
    "version": 3
   },
   "file_extension": ".py",
   "mimetype": "text/x-python",
   "name": "python",
   "nbconvert_exporter": "python",
   "pygments_lexer": "ipython3",
   "version": "3.7.3"
  }
 },
 "nbformat": 4,
 "nbformat_minor": 2
}
