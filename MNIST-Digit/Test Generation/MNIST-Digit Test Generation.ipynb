{
 "cells": [
  {
   "cell_type": "markdown",
   "metadata": {},
   "source": [
    "# Callisto Test Generation for MNIST-Digit"
   ]
  },
  {
   "cell_type": "markdown",
   "metadata": {},
   "source": [
    "### Dependencies\n",
    "* Python 3\n",
    "* Keras\n",
    "* Tensorflow\n",
    "* Random\n",
    "* Pickle\n",
    "* Math\n",
    "* Matplotlib\n",
    "* OpenCV\n",
    "* h5py"
   ]
  },
  {
   "cell_type": "code",
   "execution_count": 29,
   "metadata": {},
   "outputs": [],
   "source": [
    "import tensorflow.keras as keras\n",
    "from keras.utils import to_categorical\n",
    "from keras.models import Sequential\n",
    "from keras.layers import Dense,Conv2D,MaxPooling2D,Flatten\n",
    "import numpy as np\n",
    "from tensorflow.examples.tutorials.mnist import input_data\n",
    "import matplotlib.pyplot as plt\n",
    "import math\n",
    "import cv2\n",
    "from keras.datasets import mnist\n",
    "from sklearn.metrics import confusion_matrix\n",
    "from keras.models import Model\n",
    "import _pickle as pickle\n",
    "import copy\n",
    "import random\n",
    "import tensorflow as tf"
   ]
  },
  {
   "cell_type": "markdown",
   "metadata": {},
   "source": [
    "### Please download the pre-trained MNIST model [here](https://drive.google.com/file/d/1bT3ksg_C61kdDtqTDB0-c-5DqYS1D__1/view?usp=sharing) and save it in the \"models\" folder under MNIST-Digit\n",
    "\n",
    "### MD5 checksum = 9e642043e426595909f3227d1d27646e"
   ]
  },
  {
   "cell_type": "code",
   "execution_count": 64,
   "metadata": {},
   "outputs": [],
   "source": [
    "model1_file = \"../models/MNIST.h5py\""
   ]
  },
  {
   "cell_type": "markdown",
   "metadata": {},
   "source": [
    "#### Please change 'MINI_DATASET_TEST' to False if you want to run the full MNIST dataset. Once it is set to true, the test generation framework will only run for a subset images in the interest of time. "
   ]
  },
  {
   "cell_type": "code",
   "execution_count": 38,
   "metadata": {},
   "outputs": [],
   "source": [
    "MINI_DATASET_TEST = True\n",
    "MINI_DATASET_N = 1000"
   ]
  },
  {
   "cell_type": "code",
   "execution_count": 39,
   "metadata": {},
   "outputs": [],
   "source": [
    "#Importing the training and testing data\n",
    "(x_train, y_train), (x_test, y_test) = mnist.load_data()\n",
    "x_train= x_train.reshape(-1,28,28,1)\n",
    "x_test = x_test.reshape(-1,28,28,1)\n",
    "\n",
    "#Converting the labels to a categorical form\n",
    "y_train=to_categorical(y_train, num_classes=10)\n",
    "y_test=to_categorical(y_test, num_classes=10)\n",
    "\n",
    "if MINI_DATASET_TEST:\n",
    "    x_train = x_train[:MINI_DATASET_N]\n",
    "    x_test = x_test[:MINI_DATASET_N]\n",
    "    y_train = y_train[:MINI_DATASET_N]\n",
    "    y_test = y_test[:MINI_DATASET_N]"
   ]
  },
  {
   "cell_type": "code",
   "execution_count": 40,
   "metadata": {},
   "outputs": [],
   "source": [
    "#Model architechture\n",
    "model1=Sequential()\n",
    "model1.add(Conv2D(8, kernel_size=(3, 3), strides=(1, 1),padding=\"same\",\n",
    "                 kernel_initializer='random_uniform',\n",
    "                bias_initializer='random_uniform',\n",
    "                 activation='relu',input_shape=[28,28,1]))\n",
    "model1.add(MaxPooling2D(pool_size=(2,2),strides=(2,2),padding=\"valid\"))\n",
    "model1.add(Conv2D(16,kernel_size=(3,3),strides=(1,1),padding=\"same\",\n",
    "                kernel_initializer='random_uniform',\n",
    "                bias_initializer='random_uniform',\n",
    "                activation=\"relu\"))\n",
    "model1.add(MaxPooling2D(pool_size=(2,2),strides=(2,2),padding=\"valid\"))\n",
    "model1.add(Flatten())\n",
    "model1.add(Dense(100,activation=\"relu\",kernel_initializer='random_uniform',\n",
    "                bias_initializer='zeros'))\n",
    "model1.add(Dense(10,activation=\"softmax\",kernel_initializer='random_uniform',\n",
    "                bias_initializer='zeros'))"
   ]
  },
  {
   "cell_type": "code",
   "execution_count": 41,
   "metadata": {},
   "outputs": [],
   "source": [
    "model1.compile(optimizer='adam',\n",
    "              loss='categorical_crossentropy',\n",
    "              metrics=['accuracy'])"
   ]
  },
  {
   "cell_type": "code",
   "execution_count": 42,
   "metadata": {},
   "outputs": [],
   "source": [
    "model1.load_weights(model1_file)"
   ]
  },
  {
   "cell_type": "code",
   "execution_count": 43,
   "metadata": {},
   "outputs": [
    {
     "name": "stdout",
     "output_type": "stream",
     "text": [
      "1000/1000 [==============================] - 0s 99us/step\n",
      "Test accuracy: 0.9829999804496765\n"
     ]
    }
   ],
   "source": [
    "test_loss, test_acc = model1.evaluate(x_test, y_test)\n",
    "\n",
    "print('Test accuracy:', test_acc)"
   ]
  },
  {
   "cell_type": "code",
   "execution_count": 44,
   "metadata": {},
   "outputs": [],
   "source": [
    "layer_outputs = [layer.output for layer in model1.layers]\n",
    "\n",
    "activation_model = Model(inputs=model1.input, outputs=layer_outputs)"
   ]
  },
  {
   "cell_type": "markdown",
   "metadata": {},
   "source": [
    "### all_train_acts.pickle contains all the activations of the training data. This is necesscary for Callisto to calculate the shannon indices of the image input. Please download the file [here](https://drive.google.com/file/d/1xyoIpkv-L0SxMyxGnkSZzBd2JkiqTVJi/view?usp=sharing). The file should be saved in the \"saved_pickles\" folder  MNIST-Digit\n",
    "\n",
    "### MD5 checksum = 9a7463549e6301c694759436d3c8010b"
   ]
  },
  {
   "cell_type": "code",
   "execution_count": 45,
   "metadata": {},
   "outputs": [],
   "source": [
    "with open('../saved_pickles/all_train_acts.pickle', 'rb') as handle: \n",
    "     all_acts = pickle.load(handle)\n",
    "        \n",
    "if MINI_DATASET_TEST:\n",
    "    all_acts = all_acts[:MINI_DATASET_N]"
   ]
  },
  {
   "cell_type": "code",
   "execution_count": 46,
   "metadata": {},
   "outputs": [],
   "source": [
    "def shannon(arrs):\n",
    "    shannons = []\n",
    "    for arr in arrs:\n",
    "        sum = 0\n",
    "        for i in arr:\n",
    "            sum += (i*np.log(i))\n",
    "        shannons.append(sum * -1.0)\n",
    "    return shannons"
   ]
  },
  {
   "cell_type": "code",
   "execution_count": 47,
   "metadata": {},
   "outputs": [],
   "source": [
    "all_shannons = shannon(all_acts)"
   ]
  },
  {
   "cell_type": "code",
   "execution_count": 48,
   "metadata": {},
   "outputs": [
    {
     "name": "stdout",
     "output_type": "stream",
     "text": [
      "low_shannon_true: 823\n"
     ]
    }
   ],
   "source": [
    "low_shannon_true = []\n",
    "for i in range(len(all_shannons)):\n",
    "    if all_shannons[i] < 0.001 and np.argmax(all_acts[i]) == np.argmax(y_train[i]) : \n",
    "        low_shannon_true.append(i)\n",
    "        \n",
    "print(\"low_shannon_true:\", len(low_shannon_true))"
   ]
  },
  {
   "cell_type": "code",
   "execution_count": 49,
   "metadata": {},
   "outputs": [],
   "source": [
    "rows,cols = (28, 28)\n",
    "M = np.float32([[1,0,2],[0,1,2]])"
   ]
  },
  {
   "cell_type": "code",
   "execution_count": 50,
   "metadata": {},
   "outputs": [
    {
     "name": "stdout",
     "output_type": "stream",
     "text": [
      "Original Image\n"
     ]
    },
    {
     "data": {
      "image/png": "[encoded data removed]",
      "text/plain": [
       "<Figure size 432x288 with 1 Axes>"
      ]
     },
     "metadata": {
      "needs_background": "light"
     },
     "output_type": "display_data"
    }
   ],
   "source": [
    "print(\"Original Image\")\n",
    "img = x_train[0]\n",
    "label = y_train[0]\n",
    "plt.imshow(img.reshape(28,28), cmap=plt.cm.binary)\n",
    "plt.show()"
   ]
  },
  {
   "cell_type": "code",
   "execution_count": 51,
   "metadata": {},
   "outputs": [],
   "source": [
    "# Panning Transformation in openCV\n",
    "rows,cols = (28, 28)\n",
    "M = np.float32([[1,0,2],[0,1,2]])"
   ]
  },
  {
   "cell_type": "code",
   "execution_count": 52,
   "metadata": {},
   "outputs": [
    {
     "name": "stdout",
     "output_type": "stream",
     "text": [
      "Transformation: Panning\n"
     ]
    },
    {
     "data": {
      "image/png": "[encoded data removed]",
      "text/plain": [
       "<Figure size 432x288 with 1 Axes>"
      ]
     },
     "metadata": {
      "needs_background": "light"
     },
     "output_type": "display_data"
    }
   ],
   "source": [
    "print(\"Transformation: Panning\")\n",
    "rows,cols = (28, 28)\n",
    "M = np.float32([[1,0,2],[0,1,2]])\n",
    "dst = cv2.warpAffine(img,M,(cols,rows))\n",
    "plt.imshow(dst, cmap=plt.cm.binary)\n",
    "plt.show()"
   ]
  },
  {
   "cell_type": "code",
   "execution_count": 53,
   "metadata": {},
   "outputs": [
    {
     "name": "stdout",
     "output_type": "stream",
     "text": [
      "Transformation: Panning\n",
      "Shannon Treshold : < 0.001\n",
      "Number of inputs:  823\n",
      "Error Rate:  0.2235722964763062\n"
     ]
    }
   ],
   "source": [
    "print(\"Transformation: Panning\")\n",
    "cols,rows = 28, 28\n",
    "count_made_false_low_shannon_true = 0\n",
    "for i in low_shannon_true:\n",
    "    img = x_train[i]\n",
    "    label = y_train[i]\n",
    "    img = (np.expand_dims(img,0))\n",
    "    img_pred = activation_model.predict(img)[6][0]\n",
    "    \n",
    "    dst = cv2.warpAffine(x_train[i],M,(28,28)).reshape(28,28,1)\n",
    "    dst = (np.expand_dims(dst,0))\n",
    "    dst_pred = activation_model.predict(dst)[6][0]\n",
    "    \n",
    "    if (np.argmax(img_pred) != np.argmax(dst_pred)):\n",
    "        count_made_false_low_shannon_true += 1\n",
    "\n",
    "\n",
    "print(\"Shannon Treshold : < 0.001\")        \n",
    "print(\"Number of inputs: \", len(low_shannon_true))        \n",
    "print(\"Error Rate: \", (count_made_false_low_shannon_true*1.0)/len(low_shannon_true))"
   ]
  },
  {
   "cell_type": "code",
   "execution_count": 54,
   "metadata": {},
   "outputs": [
    {
     "name": "stdout",
     "output_type": "stream",
     "text": [
      "Transformation: Panning\n",
      "Shannon Treshold : > 0.01\n",
      "Number of inputs:  87\n",
      "Error Rates : 0.4827586206896552\n",
      "\n",
      "Shannon Treshold : > 0.025\n",
      "Number of inputs:  59\n",
      "Error Rates : 0.5423728813559322\n",
      "\n",
      "Shannon Treshold : > 0.05\n",
      "Number of inputs:  43\n",
      "Error Rates : 0.627906976744186\n",
      "\n",
      "Shannon Treshold : > 0.1\n",
      "Number of inputs:  26\n",
      "Error Rates : 0.6923076923076923\n",
      "\n",
      "Shannon Treshold : > 0.2\n",
      "Number of inputs:  17\n",
      "Error Rates : 0.7058823529411765\n",
      "\n",
      "Shannon Treshold : > 0.3\n",
      "Number of inputs:  12\n",
      "Error Rates : 0.8333333333333334\n",
      "\n",
      "Shannon Treshold : > 0.4\n",
      "Number of inputs:  10\n",
      "Error Rates : 0.8\n",
      "\n",
      "Shannon Treshold : > 0.5\n",
      "Number of inputs:  8\n",
      "Error Rates : 0.75\n",
      "\n",
      "Shannon Treshold : > 0.6\n",
      "Number of inputs:  5\n",
      "Error Rates : 0.6\n",
      "\n",
      "Shannon Treshold : > 0.7\n",
      "Number of inputs:  3\n",
      "Error Rates : 0.3333333333333333\n",
      "\n",
      "Shannon Treshold : > 0.8\n",
      "Number of inputs:  2\n",
      "Error Rates : 0.5\n",
      "\n",
      "Shannon Treshold : > 0.9\n",
      "Number of inputs:  0\n",
      "No inputs with shannon index more than  0.9\n",
      "\n",
      "Shannon Treshold : > 1.0\n",
      "Number of inputs:  0\n",
      "No inputs with shannon index more than  1.0\n",
      "\n"
     ]
    }
   ],
   "source": [
    "print(\"Transformation: Panning\")\n",
    "thresholds = [0.01, 0.025, 0.05, 0.1, 0.2, 0.3, 0.4, 0.5, 0.6, 0.7, 0.8, 0.9, 1.0]\n",
    "\n",
    "for threshold in thresholds:\n",
    "    high_shannon_true = []\n",
    "    for i, shannon_index in enumerate(all_shannons):\n",
    "        if shannon_index > threshold and (np.argmax(all_acts[i]) == np.argmax(y_train[i])) : \n",
    "            high_shannon_true.append(i)\n",
    "\n",
    "    print(\"Shannon Treshold : >\", threshold)\n",
    "    print(\"Number of inputs: \", len(high_shannon_true))\n",
    "\n",
    "    count_made_false_high_shannon_true = 0\n",
    "    \n",
    "    if len(high_shannon_true) > 0:\n",
    "        for i in high_shannon_true:\n",
    "            img = x_train[i]\n",
    "            label = y_train[i]\n",
    "            img = (np.expand_dims(img,0))\n",
    "            img_pred = activation_model.predict(img)[6][0]\n",
    "\n",
    "            dst = cv2.warpAffine(x_train[i],M,(28,28)).reshape(28,28,1)\n",
    "            dst = (np.expand_dims(dst,0))\n",
    "            dst_pred = activation_model.predict(dst)[6][0]\n",
    "            if (np.argmax(img_pred) != np.argmax(dst_pred)):\n",
    "                count_made_false_high_shannon_true += 1\n",
    "\n",
    "        print(\"Error Rates :\", (count_made_false_high_shannon_true*1.0)/len(high_shannon_true))\n",
    "        \n",
    "    else:\n",
    "        print(\"No inputs with shannon index more than \", threshold)\n",
    "        \n",
    "    print(\"\")"
   ]
  },
  {
   "cell_type": "code",
   "execution_count": 55,
   "metadata": {},
   "outputs": [
    {
     "name": "stdout",
     "output_type": "stream",
     "text": [
      "Transformation: 2D rotation\n"
     ]
    },
    {
     "data": {
      "image/png": "[encoded data removed]",
      "text/plain": [
       "<Figure size 432x288 with 1 Axes>"
      ]
     },
     "metadata": {
      "needs_background": "light"
     },
     "output_type": "display_data"
    }
   ],
   "source": [
    "print(\"Transformation: 2D rotation\")\n",
    "rows,cols = (28, 28)\n",
    "M = cv2.getRotationMatrix2D((cols/2,rows/2),30,1)\n",
    "img = x_train[0]\n",
    "dst = cv2.warpAffine(img,M,(cols,rows))\n",
    "plt.imshow(dst, cmap=plt.cm.binary)\n",
    "plt.show()"
   ]
  },
  {
   "cell_type": "code",
   "execution_count": 56,
   "metadata": {},
   "outputs": [
    {
     "name": "stdout",
     "output_type": "stream",
     "text": [
      "Transformation: Rotation\n",
      "Shannon Treshold : < 0.001\n",
      "Number of inputs:  823\n",
      "Error Rate:  0.09477521263669501\n"
     ]
    }
   ],
   "source": [
    "print(\"Transformation: Rotation\")\n",
    "cols,rows = 28, 28\n",
    "count_made_false_low_shannon_true = 0\n",
    "for i in low_shannon_true:\n",
    "    img = x_train[i]\n",
    "    label = y_train[i]\n",
    "    img = (np.expand_dims(img,0))\n",
    "    img_pred = activation_model.predict(img)[6][0]\n",
    "    \n",
    "    dst = cv2.warpAffine(x_train[i],M,(28,28)).reshape(28,28,1)\n",
    "    dst = (np.expand_dims(dst,0))\n",
    "    dst_pred = activation_model.predict(dst)[6][0]\n",
    "    \n",
    "    if (np.argmax(img_pred) != np.argmax(dst_pred)):\n",
    "        count_made_false_low_shannon_true += 1\n",
    "\n",
    "\n",
    "print(\"Shannon Treshold : < 0.001\")        \n",
    "print(\"Number of inputs: \", len(low_shannon_true))        \n",
    "print(\"Error Rate: \", (count_made_false_low_shannon_true*1.0)/len(low_shannon_true))"
   ]
  },
  {
   "cell_type": "code",
   "execution_count": 57,
   "metadata": {},
   "outputs": [
    {
     "name": "stdout",
     "output_type": "stream",
     "text": [
      "Transformation: Rotation\n",
      "Shannon Treshold : > 0.01\n",
      "Number of inputs:  87\n",
      "Error Rates : 0.4367816091954023\n",
      "\n",
      "Shannon Treshold : > 0.025\n",
      "Number of inputs:  59\n",
      "Error Rates : 0.4406779661016949\n",
      "\n",
      "Shannon Treshold : > 0.05\n",
      "Number of inputs:  43\n",
      "Error Rates : 0.46511627906976744\n",
      "\n",
      "Shannon Treshold : > 0.1\n",
      "Number of inputs:  26\n",
      "Error Rates : 0.5\n",
      "\n",
      "Shannon Treshold : > 0.2\n",
      "Number of inputs:  17\n",
      "Error Rates : 0.47058823529411764\n",
      "\n",
      "Shannon Treshold : > 0.3\n",
      "Number of inputs:  12\n",
      "Error Rates : 0.3333333333333333\n",
      "\n",
      "Shannon Treshold : > 0.4\n",
      "Number of inputs:  10\n",
      "Error Rates : 0.4\n",
      "\n",
      "Shannon Treshold : > 0.5\n",
      "Number of inputs:  8\n",
      "Error Rates : 0.5\n",
      "\n",
      "Shannon Treshold : > 0.6\n",
      "Number of inputs:  5\n",
      "Error Rates : 0.4\n",
      "\n",
      "Shannon Treshold : > 0.7\n",
      "Number of inputs:  3\n",
      "Error Rates : 0.6666666666666666\n",
      "\n",
      "Shannon Treshold : > 0.8\n",
      "Number of inputs:  2\n",
      "Error Rates : 1.0\n",
      "\n",
      "Shannon Treshold : > 0.9\n",
      "Number of inputs:  0\n",
      "No inputs with shannon index more than  0.9\n",
      "\n",
      "Shannon Treshold : > 1.0\n",
      "Number of inputs:  0\n",
      "No inputs with shannon index more than  1.0\n",
      "\n"
     ]
    }
   ],
   "source": [
    "print(\"Transformation: Rotation\")\n",
    "thresholds = [0.01, 0.025, 0.05, 0.1, 0.2, 0.3, 0.4, 0.5, 0.6, 0.7, 0.8, 0.9, 1.0]\n",
    "\n",
    "for threshold in thresholds:\n",
    "    high_shannon_true = []\n",
    "    for i, shannon_index in enumerate(all_shannons):\n",
    "        if shannon_index > threshold and (np.argmax(all_acts[i]) == np.argmax(y_train[i])) : \n",
    "            high_shannon_true.append(i)\n",
    "\n",
    "    print(\"Shannon Treshold : >\", threshold)\n",
    "    print(\"Number of inputs: \", len(high_shannon_true))\n",
    "\n",
    "    count_made_false_high_shannon_true = 0\n",
    "    \n",
    "    if len(high_shannon_true) > 0:\n",
    "        for i in high_shannon_true:\n",
    "            img = x_train[i]\n",
    "            label = y_train[i]\n",
    "            img = (np.expand_dims(img,0))\n",
    "            img_pred = activation_model.predict(img)[6][0]\n",
    "\n",
    "            dst = cv2.warpAffine(x_train[i],M,(28,28)).reshape(28,28,1)\n",
    "            dst = (np.expand_dims(dst,0))\n",
    "            dst_pred = activation_model.predict(dst)[6][0]\n",
    "            if (np.argmax(img_pred) != np.argmax(dst_pred)):\n",
    "                count_made_false_high_shannon_true += 1\n",
    "\n",
    "        print(\"Error Rates :\", (count_made_false_high_shannon_true*1.0)/len(high_shannon_true))\n",
    "        \n",
    "    else:\n",
    "        print(\"No inputs with shannon index more than \", threshold)\n",
    "        \n",
    "    print(\"\")"
   ]
  },
  {
   "cell_type": "code",
   "execution_count": 58,
   "metadata": {},
   "outputs": [
    {
     "name": "stdout",
     "output_type": "stream",
     "text": [
      "Transformation: Affine\n"
     ]
    },
    {
     "data": {
      "image/png": "[encoded data removed]",
      "text/plain": [
       "<Figure size 432x288 with 1 Axes>"
      ]
     },
     "metadata": {
      "needs_background": "light"
     },
     "output_type": "display_data"
    }
   ],
   "source": [
    "print(\"Transformation: Affine\")\n",
    "rows,cols = (28, 28)\n",
    "pts1 = np.float32([[5,5],[24,5],[5,24]])\n",
    "pts2 = np.float32([[1,10],[20,5],[10,25]])\n",
    "M = cv2.getAffineTransform(pts1,pts2)\n",
    "img = x_train[0]\n",
    "dst = cv2.warpAffine(img,M,(cols,rows))\n",
    "plt.imshow(dst, cmap=plt.cm.binary)\n",
    "plt.show()"
   ]
  },
  {
   "cell_type": "code",
   "execution_count": 59,
   "metadata": {},
   "outputs": [
    {
     "name": "stdout",
     "output_type": "stream",
     "text": [
      "Transformation: Affine\n",
      "Shannon Treshold : < 0.001\n",
      "Number of inputs:  823\n",
      "Error Rate:  0.06439854191980558\n"
     ]
    }
   ],
   "source": [
    "print(\"Transformation: Affine\")\n",
    "cols,rows = 28, 28\n",
    "count_made_false_low_shannon_true = 0\n",
    "for i in low_shannon_true:\n",
    "    img = x_train[i]\n",
    "    label = y_train[i]\n",
    "    img = (np.expand_dims(img,0))\n",
    "    img_pred = activation_model.predict(img)[6][0]\n",
    "    \n",
    "    dst = cv2.warpAffine(x_train[i],M,(28,28)).reshape(28,28,1)\n",
    "    dst = (np.expand_dims(dst,0))\n",
    "    dst_pred = activation_model.predict(dst)[6][0]\n",
    "    \n",
    "    if (np.argmax(img_pred) != np.argmax(dst_pred)):\n",
    "        count_made_false_low_shannon_true += 1\n",
    "\n",
    "\n",
    "print(\"Shannon Treshold : < 0.001\")        \n",
    "print(\"Number of inputs: \", len(low_shannon_true))        \n",
    "print(\"Error Rate: \", (count_made_false_low_shannon_true*1.0)/len(low_shannon_true))"
   ]
  },
  {
   "cell_type": "code",
   "execution_count": 60,
   "metadata": {},
   "outputs": [
    {
     "name": "stdout",
     "output_type": "stream",
     "text": [
      "Transformation: Affine\n",
      "Shannon Treshold : > 0.01\n",
      "Number of inputs:  87\n",
      "Error Rates : 0.3448275862068966\n",
      "\n",
      "Shannon Treshold : > 0.025\n",
      "Number of inputs:  59\n",
      "Error Rates : 0.423728813559322\n",
      "\n",
      "Shannon Treshold : > 0.05\n",
      "Number of inputs:  43\n",
      "Error Rates : 0.4418604651162791\n",
      "\n",
      "Shannon Treshold : > 0.1\n",
      "Number of inputs:  26\n",
      "Error Rates : 0.5\n",
      "\n",
      "Shannon Treshold : > 0.2\n",
      "Number of inputs:  17\n",
      "Error Rates : 0.5294117647058824\n",
      "\n",
      "Shannon Treshold : > 0.3\n",
      "Number of inputs:  12\n",
      "Error Rates : 0.4166666666666667\n",
      "\n",
      "Shannon Treshold : > 0.4\n",
      "Number of inputs:  10\n",
      "Error Rates : 0.4\n",
      "\n",
      "Shannon Treshold : > 0.5\n",
      "Number of inputs:  8\n",
      "Error Rates : 0.5\n",
      "\n",
      "Shannon Treshold : > 0.6\n",
      "Number of inputs:  5\n",
      "Error Rates : 0.4\n",
      "\n",
      "Shannon Treshold : > 0.7\n",
      "Number of inputs:  3\n",
      "Error Rates : 0.6666666666666666\n",
      "\n",
      "Shannon Treshold : > 0.8\n",
      "Number of inputs:  2\n",
      "Error Rates : 1.0\n",
      "\n",
      "Shannon Treshold : > 0.9\n",
      "Number of inputs:  0\n",
      "No inputs with shannon index more than  0.9\n",
      "\n",
      "Shannon Treshold : > 1.0\n",
      "Number of inputs:  0\n",
      "No inputs with shannon index more than  1.0\n",
      "\n"
     ]
    }
   ],
   "source": [
    "print(\"Transformation: Affine\")\n",
    "thresholds = [0.01, 0.025, 0.05, 0.1, 0.2, 0.3, 0.4, 0.5, 0.6, 0.7, 0.8, 0.9, 1.0]\n",
    "\n",
    "for threshold in thresholds:\n",
    "    high_shannon_true = []\n",
    "    for i, shannon_index in enumerate(all_shannons):\n",
    "        if shannon_index > threshold and (np.argmax(all_acts[i]) == np.argmax(y_train[i])) : \n",
    "            high_shannon_true.append(i)\n",
    "\n",
    "    print(\"Shannon Treshold : >\", threshold)\n",
    "    print(\"Number of inputs: \", len(high_shannon_true))\n",
    "\n",
    "    count_made_false_high_shannon_true = 0\n",
    "    \n",
    "    if len(high_shannon_true) > 0:\n",
    "        for i in high_shannon_true:\n",
    "            img = x_train[i]\n",
    "            label = y_train[i]\n",
    "            img = (np.expand_dims(img,0))\n",
    "            img_pred = activation_model.predict(img)[6][0]\n",
    "\n",
    "            dst = cv2.warpAffine(x_train[i],M,(28,28)).reshape(28,28,1)\n",
    "            dst = (np.expand_dims(dst,0))\n",
    "            dst_pred = activation_model.predict(dst)[6][0]\n",
    "            if (np.argmax(img_pred) != np.argmax(dst_pred)):\n",
    "                count_made_false_high_shannon_true += 1\n",
    "\n",
    "        print(\"Error Rates :\", (count_made_false_high_shannon_true*1.0)/len(high_shannon_true))\n",
    "        \n",
    "    else:\n",
    "        print(\"No inputs with shannon index more than \", threshold)\n",
    "        \n",
    "    print(\"\")"
   ]
  },
  {
   "cell_type": "code",
   "execution_count": 61,
   "metadata": {},
   "outputs": [
    {
     "name": "stdout",
     "output_type": "stream",
     "text": [
      "Transformation: Perspective\n"
     ]
    },
    {
     "data": {
      "image/png": "[encoded data removed]",
      "text/plain": [
       "<Figure size 432x288 with 1 Axes>"
      ]
     },
     "metadata": {
      "needs_background": "light"
     },
     "output_type": "display_data"
    }
   ],
   "source": [
    "print(\"Transformation: Perspective\")\n",
    "rows,cols = (28, 28)\n",
    "pts1 = np.float32([[1,1],[25,1],[1,25],[25,25]])\n",
    "pts2 = np.float32([[0,0],[28,0],[0,28],[28,28]])\n",
    "M = cv2.getPerspectiveTransform(pts1,pts2)\n",
    "img = x_train[0]\n",
    "dst = cv2.warpPerspective(img,M,(cols,rows))\n",
    "plt.imshow(dst, cmap=plt.cm.binary)\n",
    "plt.show()"
   ]
  },
  {
   "cell_type": "code",
   "execution_count": 62,
   "metadata": {},
   "outputs": [
    {
     "name": "stdout",
     "output_type": "stream",
     "text": [
      "Transformation: Perspective\n",
      "Shannon Treshold : < 0.001\n",
      "Number of inputs:  823\n",
      "Error Rate:  0.024301336573511544\n"
     ]
    }
   ],
   "source": [
    "print(\"Transformation: Perspective\")\n",
    "cols,rows = 28, 28\n",
    "count_made_false_low_shannon_true = 0\n",
    "for i in low_shannon_true:\n",
    "    img = x_train[i]\n",
    "    label = y_train[i]\n",
    "    img = (np.expand_dims(img,0))\n",
    "    img_pred = activation_model.predict(img)[6][0]\n",
    "    \n",
    "    dst = cv2.warpPerspective(x_train[i],M,(28,28)).reshape(28,28,1)\n",
    "    dst = (np.expand_dims(dst,0))\n",
    "    dst_pred = activation_model.predict(dst)[6][0]\n",
    "    \n",
    "    if (np.argmax(img_pred) != np.argmax(dst_pred)):\n",
    "        count_made_false_low_shannon_true += 1\n",
    "\n",
    "\n",
    "print(\"Shannon Treshold : < 0.001\")        \n",
    "print(\"Number of inputs: \", len(low_shannon_true))        \n",
    "print(\"Error Rate: \", (count_made_false_low_shannon_true*1.0)/len(low_shannon_true))"
   ]
  },
  {
   "cell_type": "code",
   "execution_count": 63,
   "metadata": {},
   "outputs": [
    {
     "name": "stdout",
     "output_type": "stream",
     "text": [
      "Transformation: Perspective\n",
      "Shannon Treshold : > 0.01\n",
      "Number of inputs:  87\n",
      "Error Rates : 0.1724137931034483\n",
      "\n",
      "Shannon Treshold : > 0.025\n",
      "Number of inputs:  59\n",
      "Error Rates : 0.1864406779661017\n",
      "\n",
      "Shannon Treshold : > 0.05\n",
      "Number of inputs:  43\n",
      "Error Rates : 0.18604651162790697\n",
      "\n",
      "Shannon Treshold : > 0.1\n",
      "Number of inputs:  26\n",
      "Error Rates : 0.3076923076923077\n",
      "\n",
      "Shannon Treshold : > 0.2\n",
      "Number of inputs:  17\n",
      "Error Rates : 0.4117647058823529\n",
      "\n",
      "Shannon Treshold : > 0.3\n",
      "Number of inputs:  12\n",
      "Error Rates : 0.4166666666666667\n",
      "\n",
      "Shannon Treshold : > 0.4\n",
      "Number of inputs:  10\n",
      "Error Rates : 0.4\n",
      "\n",
      "Shannon Treshold : > 0.5\n",
      "Number of inputs:  8\n",
      "Error Rates : 0.375\n",
      "\n",
      "Shannon Treshold : > 0.6\n",
      "Number of inputs:  5\n",
      "Error Rates : 0.2\n",
      "\n",
      "Shannon Treshold : > 0.7\n",
      "Number of inputs:  3\n",
      "Error Rates : 0.3333333333333333\n",
      "\n",
      "Shannon Treshold : > 0.8\n",
      "Number of inputs:  2\n",
      "Error Rates : 0.5\n",
      "\n",
      "Shannon Treshold : > 0.9\n",
      "Number of inputs:  0\n",
      "No inputs with shannon index more than  0.9\n",
      "\n",
      "Shannon Treshold : > 1.0\n",
      "Number of inputs:  0\n",
      "No inputs with shannon index more than  1.0\n",
      "\n"
     ]
    }
   ],
   "source": [
    "print(\"Transformation: Perspective\")\n",
    "thresholds = [0.01, 0.025, 0.05, 0.1, 0.2, 0.3, 0.4, 0.5, 0.6, 0.7, 0.8, 0.9, 1.0]\n",
    "\n",
    "for threshold in thresholds:\n",
    "    high_shannon_true = []\n",
    "    for i, shannon_index in enumerate(all_shannons):\n",
    "        if shannon_index > threshold and (np.argmax(all_acts[i]) == np.argmax(y_train[i])) : \n",
    "            high_shannon_true.append(i)\n",
    "\n",
    "    print(\"Shannon Treshold : >\", threshold)\n",
    "    print(\"Number of inputs: \", len(high_shannon_true))\n",
    "\n",
    "    count_made_false_high_shannon_true = 0\n",
    "    \n",
    "    if len(high_shannon_true) > 0:\n",
    "        for i in high_shannon_true:\n",
    "            img = x_train[i]\n",
    "            label = y_train[i]\n",
    "            img = (np.expand_dims(img,0))\n",
    "            img_pred = activation_model.predict(img)[6][0]\n",
    "\n",
    "            dst = cv2.warpPerspective(x_train[i],M,(28,28)).reshape(28,28,1)\n",
    "            dst = (np.expand_dims(dst,0))\n",
    "            dst_pred = activation_model.predict(dst)[6][0]\n",
    "            if (np.argmax(img_pred) != np.argmax(dst_pred)):\n",
    "                count_made_false_high_shannon_true += 1\n",
    "\n",
    "        print(\"Error Rates :\", (count_made_false_high_shannon_true*1.0)/len(high_shannon_true))\n",
    "        \n",
    "    else:\n",
    "        print(\"No inputs with shannon index more than \", threshold)\n",
    "        \n",
    "    print(\"\")"
   ]
  },
  {
   "cell_type": "code",
   "execution_count": null,
   "metadata": {},
   "outputs": [],
   "source": []
  },
  {
   "cell_type": "code",
   "execution_count": null,
   "metadata": {},
   "outputs": [],
   "source": []
  }
 ],
 "metadata": {
  "kernelspec": {
   "display_name": "Python 3",
   "language": "python",
   "name": "python3"
  },
  "language_info": {
   "codemirror_mode": {
    "name": "ipython",
    "version": 3
   },
   "file_extension": ".py",
   "mimetype": "text/x-python",
   "name": "python",
   "nbconvert_exporter": "python",
   "pygments_lexer": "ipython3",
   "version": "3.7.3"
  }
 },
 "nbformat": 4,
 "nbformat_minor": 2
}
