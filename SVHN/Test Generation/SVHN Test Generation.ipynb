{
 "cells": [
  {
   "cell_type": "markdown",
   "metadata": {},
   "source": [
    "# Callisto Test Generation for SVHN\n",
    "\n",
    "### Dependencies\n",
    "* Python 3\n",
    "* Keras\n",
    "* Tensorflow==1.15.0\n",
    "* Random\n",
    "* Pickle\n",
    "* Math\n",
    "* Matplotlib\n",
    "* OpenCV\n",
    "* SVHN Dataset\n",
    "* h5py\n"
   ]
  },
  {
   "cell_type": "code",
   "execution_count": 3,
   "metadata": {},
   "outputs": [
    {
     "name": "stderr",
     "output_type": "stream",
     "text": [
      "Using TensorFlow backend.\n"
     ]
    }
   ],
   "source": [
    "from __future__ import absolute_import\n",
    "from __future__ import print_function\n",
    "\n",
    "import os\n",
    "import cv2\n",
    "import time\n",
    "from datetime import timedelta\n",
    "import h5py\n",
    "import numpy as np\n",
    "import tensorflow as tf\n",
    "import matplotlib.pyplot as plt\n",
    "import tensorflow.keras as keras\n",
    "from keras.models import Sequential\n",
    "from keras.layers import Dense,Conv2D,MaxPooling2D,Flatten,InputLayer\n",
    "from keras.models import Model\n",
    "import _pickle as pickle\n",
    "import tensorflow as tf\n",
    "import copy"
   ]
  },
  {
   "cell_type": "markdown",
   "metadata": {},
   "source": [
    "#### Please change 'MINI_DATASET_TEST' to False if you want to run the full SVHN dataset. Once it is set to true, the test generation framework will only run for a subset images in the interest of time. "
   ]
  },
  {
   "cell_type": "code",
   "execution_count": 4,
   "metadata": {},
   "outputs": [],
   "source": [
    "MINI_DATASET_TEST = True\n",
    "MINI_DATASET_N = 1000"
   ]
  },
  {
   "cell_type": "markdown",
   "metadata": {},
   "source": [
    "#### Please change 'VERBOSE' to False if you want to not print a lot of information"
   ]
  },
  {
   "cell_type": "code",
   "execution_count": 5,
   "metadata": {},
   "outputs": [],
   "source": [
    "VERBOSE = True"
   ]
  },
  {
   "cell_type": "markdown",
   "metadata": {},
   "source": [
    "### Please download the SVHN data [here](https://drive.google.com/file/d/1Zxz1QC5ZD6eREwLfjv1NVdUaZxV0hp4U/view?usp=sharing) and save it in the \"data\" folder under SVHN\n",
    "\n",
    "### You <span style=\"color:red\">**need**</span> to download this file. It is not part of the github repo\n",
    "\n",
    "### MD5 checksum = 2511787cf63e6d9d4495eafd120d701e"
   ]
  },
  {
   "cell_type": "code",
   "execution_count": 6,
   "metadata": {},
   "outputs": [
    {
     "name": "stdout",
     "output_type": "stream",
     "text": [
      "Training set (1000, 32, 32, 1) (1000, 10)\n",
      "Validation set (1000, 32, 32, 1) (1000, 10)\n",
      "Test set (1000, 32, 32, 1) (1000, 10)\n"
     ]
    }
   ],
   "source": [
    "# Open the file as readonly\n",
    "h5f = h5py.File('../data/SVHN_grey.h5', 'r')\n",
    "\n",
    "# Load the training, test and validation set\n",
    "x_train = h5f['X_train'][:]\n",
    "y_train = h5f['y_train'][:]\n",
    "x_test = h5f['X_test'][:]\n",
    "y_test = h5f['y_test'][:]\n",
    "x_val = h5f['X_val'][:]\n",
    "y_val = h5f['y_val'][:]\n",
    "\n",
    "if MINI_DATASET_TEST:\n",
    "    x_train = h5f['X_train'][:MINI_DATASET_N]\n",
    "    y_train = h5f['y_train'][:MINI_DATASET_N]\n",
    "    x_test = h5f['X_test'][:MINI_DATASET_N]\n",
    "    y_test = h5f['y_test'][:MINI_DATASET_N]\n",
    "    x_val = h5f['X_val'][:MINI_DATASET_N]\n",
    "    y_val = h5f['y_val'][:MINI_DATASET_N]\n",
    "\n",
    "# Close this file\n",
    "h5f.close()\n",
    "\n",
    "print('Training set', x_train.shape, y_train.shape)\n",
    "print('Validation set', x_val.shape, y_val.shape)\n",
    "print('Test set', x_test.shape, y_test.shape)"
   ]
  },
  {
   "cell_type": "code",
   "execution_count": 7,
   "metadata": {},
   "outputs": [],
   "source": [
    "def reload_train(MINI_DATASET_TEST_FUNC, MINI_DATASET_N_FUNC):\n",
    "    h5f = h5py.File('../data/SVHN_grey.h5', 'r')\n",
    "    \n",
    "    x_train_func = h5f['X_train'][:]\n",
    "    y_train_func = h5f['y_train'][:]\n",
    "    \n",
    "    if MINI_DATASET_TEST_FUNC:\n",
    "        x_train_func = h5f['X_train'][:MINI_DATASET_N_FUNC]\n",
    "        y_train_func = h5f['y_train'][:MINI_DATASET_N_FUNC]\n",
    "    h5f.close()\n",
    "    \n",
    "    return x_train_func, y_train_func"
   ]
  },
  {
   "cell_type": "markdown",
   "metadata": {},
   "source": [
    "### Please download the pre-trained SVHN model [here](https://drive.google.com/file/d/1wAxCv0hpV-_i5GUTsWr8WcgshKAdSupA/view?usp=sharing) and save it in the \"models\" folder under SVHN.  \n",
    "\n",
    "### If you have downloaded this file as part of the GitHub repo, it should be downloaded automatically\n",
    "\n",
    "### MD5 checksum = 25537c56c03699796dcc940fecbceb12"
   ]
  },
  {
   "cell_type": "code",
   "execution_count": 1,
   "metadata": {},
   "outputs": [],
   "source": [
    "model1_file = \"../models/SVHN.h5py\""
   ]
  },
  {
   "cell_type": "code",
   "execution_count": 2,
   "metadata": {},
   "outputs": [
    {
     "ename": "NameError",
     "evalue": "name 'Sequential' is not defined",
     "output_type": "error",
     "traceback": [
      "\u001b[0;31m---------------------------------------------------------------------------\u001b[0m",
      "\u001b[0;31mNameError\u001b[0m                                 Traceback (most recent call last)",
      "\u001b[0;32m<ipython-input-2-e6a318e94a2b>\u001b[0m in \u001b[0;36m<module>\u001b[0;34m\u001b[0m\n\u001b[0;32m----> 1\u001b[0;31m \u001b[0mmodel1\u001b[0m\u001b[0;34m=\u001b[0m\u001b[0mSequential\u001b[0m\u001b[0;34m(\u001b[0m\u001b[0;34m)\u001b[0m\u001b[0;34m\u001b[0m\u001b[0;34m\u001b[0m\u001b[0m\n\u001b[0m\u001b[1;32m      2\u001b[0m model1.add(Conv2D(\n\u001b[1;32m      3\u001b[0m         \u001b[0minput_shape\u001b[0m\u001b[0;34m=\u001b[0m\u001b[0;34m[\u001b[0m\u001b[0;36m32\u001b[0m\u001b[0;34m,\u001b[0m \u001b[0;36m32\u001b[0m\u001b[0;34m,\u001b[0m \u001b[0;36m1\u001b[0m\u001b[0;34m]\u001b[0m\u001b[0;34m,\u001b[0m\u001b[0;34m\u001b[0m\u001b[0;34m\u001b[0m\u001b[0m\n\u001b[1;32m      4\u001b[0m         \u001b[0mfilters\u001b[0m\u001b[0;34m=\u001b[0m\u001b[0;36m32\u001b[0m\u001b[0;34m,\u001b[0m\u001b[0;34m\u001b[0m\u001b[0;34m\u001b[0m\u001b[0m\n\u001b[1;32m      5\u001b[0m         \u001b[0mkernel_size\u001b[0m\u001b[0;34m=\u001b[0m\u001b[0;34m[\u001b[0m\u001b[0;36m5\u001b[0m\u001b[0;34m,\u001b[0m \u001b[0;36m5\u001b[0m\u001b[0;34m]\u001b[0m\u001b[0;34m,\u001b[0m\u001b[0;34m\u001b[0m\u001b[0;34m\u001b[0m\u001b[0m\n",
      "\u001b[0;31mNameError\u001b[0m: name 'Sequential' is not defined"
     ]
    }
   ],
   "source": [
    "model1=Sequential()\n",
    "model1.add(Conv2D(\n",
    "        input_shape=[32, 32, 1],\n",
    "        filters=32,\n",
    "        kernel_size=[5, 5],\n",
    "        padding=\"same\",\n",
    "        activation=tf.nn.relu))\n",
    "model1.add(MaxPooling2D(pool_size=(2,2),strides=2,padding=\"valid\"))\n",
    "model1.add(Conv2D(\n",
    "        filters=64,\n",
    "        kernel_size=[5, 5],\n",
    "        padding=\"same\",\n",
    "        activation=tf.nn.relu))\n",
    "model1.add(MaxPooling2D(pool_size=(2,2),strides=2,padding=\"valid\"))\n",
    "model1.add(Conv2D(\n",
    "        filters=64,\n",
    "        kernel_size=[5, 5],\n",
    "        padding=\"same\",\n",
    "        activation=tf.nn.relu))\n",
    "model1.add(MaxPooling2D(pool_size=(2,2),strides=2,padding=\"valid\"))\n",
    "model1.add(Flatten())\n",
    "model1.add(Dense(10,activation=\"softmax\",kernel_initializer='random_uniform',\n",
    "                bias_initializer='zeros'))"
   ]
  },
  {
   "cell_type": "code",
   "execution_count": 8,
   "metadata": {},
   "outputs": [],
   "source": [
    "model1.compile(optimizer='adam',\n",
    "              loss='categorical_crossentropy',\n",
    "              metrics=['accuracy'])"
   ]
  },
  {
   "cell_type": "code",
   "execution_count": 9,
   "metadata": {},
   "outputs": [],
   "source": [
    "model1.load_weights(model1_file)"
   ]
  },
  {
   "cell_type": "code",
   "execution_count": 10,
   "metadata": {},
   "outputs": [],
   "source": [
    "layer_outputs = [layer.output for layer in model1.layers]\n",
    "\n",
    "activation_model = Model(inputs=model1.input, outputs=layer_outputs)"
   ]
  },
  {
   "cell_type": "code",
   "execution_count": 11,
   "metadata": {},
   "outputs": [
    {
     "name": "stderr",
     "output_type": "stream",
     "text": [
      "W1208 01:14:28.705978 4573683008 module_wrapper.py:139] From /usr/local/lib/python3.7/site-packages/keras/backend/tensorflow_backend.py:422: The name tf.global_variables is deprecated. Please use tf.compat.v1.global_variables instead.\n",
      "\n"
     ]
    },
    {
     "name": "stdout",
     "output_type": "stream",
     "text": [
      "1000/1000 [==============================] - 0s 265us/step\n",
      "Test accuracy: 0.8870000243186951\n"
     ]
    }
   ],
   "source": [
    "test_loss, test_acc = model1.evaluate(x_test, y_test)\n",
    "\n",
    "print('Test accuracy:', test_acc)"
   ]
  },
  {
   "cell_type": "markdown",
   "metadata": {},
   "source": [
    "### all_train_acts.pickle contains all the activations of the training data. This is necesscary for Callisto to calculate the shannon indices of the image input. Please download the file [here](https://drive.google.com/file/d/1PGVjDtV-vJJHz9QEjkIUpWPMNaTbGQpd/view?usp=sharing). The file should be saved in the \"saved_pickles\" folder SVHN\n",
    "\n",
    "### If you have downloaded this file as part of the GitHub repo, it should be downloaded automatically\n",
    "\n",
    "### MD5 Sum = fad8fea2d32f180a9acf102968f96f3e"
   ]
  },
  {
   "cell_type": "code",
   "execution_count": 12,
   "metadata": {},
   "outputs": [],
   "source": [
    "with open('../saved_pickles/all_train_acts.pickle', 'rb') as handle: \n",
    "     all_acts = pickle.load(handle)\n",
    "        \n",
    "if MINI_DATASET_TEST:\n",
    "    all_acts = all_acts[:MINI_DATASET_N]\n"
   ]
  },
  {
   "cell_type": "code",
   "execution_count": 13,
   "metadata": {},
   "outputs": [],
   "source": [
    "def shannon(arrs):\n",
    "    shannons = []\n",
    "    for arr in arrs:\n",
    "        sum = 0\n",
    "        for i in arr:\n",
    "            sum += (i*np.log(i))\n",
    "        shannons.append(sum * -1.0)\n",
    "    return shannons"
   ]
  },
  {
   "cell_type": "code",
   "execution_count": 14,
   "metadata": {},
   "outputs": [
    {
     "name": "stderr",
     "output_type": "stream",
     "text": [
      "/usr/local/lib/python3.7/site-packages/ipykernel_launcher.py:6: RuntimeWarning: divide by zero encountered in log\n",
      "  \n",
      "/usr/local/lib/python3.7/site-packages/ipykernel_launcher.py:6: RuntimeWarning: invalid value encountered in float_scalars\n",
      "  \n"
     ]
    }
   ],
   "source": [
    "all_shannons = shannon(all_acts)"
   ]
  },
  {
   "cell_type": "code",
   "execution_count": 15,
   "metadata": {},
   "outputs": [
    {
     "name": "stdout",
     "output_type": "stream",
     "text": [
      "low_shannon_true: 523\n"
     ]
    }
   ],
   "source": [
    "low_shannon_true = []\n",
    "for i in range(len(all_shannons)):\n",
    "    if all_shannons[i] < 0.001 and np.argmax(all_acts[i]) == np.argmax(y_train[i]) : \n",
    "        low_shannon_true.append(i)\n",
    "        \n",
    "print(\"low_shannon_true:\", len(low_shannon_true))"
   ]
  },
  {
   "cell_type": "code",
   "execution_count": 16,
   "metadata": {},
   "outputs": [],
   "source": [
    "rows,cols = (32, 32)\n",
    "M = np.float32([[1,0,2],[0,1,2]])"
   ]
  },
  {
   "cell_type": "code",
   "execution_count": 17,
   "metadata": {},
   "outputs": [
    {
     "name": "stdout",
     "output_type": "stream",
     "text": [
      "Original Image\n"
     ]
    },
    {
     "data": {
      "image/png": "[encoded data removed]",
      "text/plain": [
       "<Figure size 432x288 with 1 Axes>"
      ]
     },
     "metadata": {
      "needs_background": "light"
     },
     "output_type": "display_data"
    }
   ],
   "source": [
    "print(\"Original Image\")\n",
    "x_train, y_train = reload_train(MINI_DATASET_TEST, MINI_DATASET_N)\n",
    "img = x_train[0]\n",
    "label = y_train[0]\n",
    "plt.imshow(img.reshape(32,32), cmap=plt.cm.binary)\n",
    "plt.show()"
   ]
  },
  {
   "cell_type": "code",
   "execution_count": 18,
   "metadata": {},
   "outputs": [
    {
     "name": "stdout",
     "output_type": "stream",
     "text": [
      "Transformation: Panning\n"
     ]
    },
    {
     "data": {
      "image/png": "[encoded data removed]",
      "text/plain": [
       "<Figure size 432x288 with 1 Axes>"
      ]
     },
     "metadata": {
      "needs_background": "light"
     },
     "output_type": "display_data"
    }
   ],
   "source": [
    "print(\"Transformation: Panning\")\n",
    "x_train, y_train = reload_train(MINI_DATASET_TEST, MINI_DATASET_N)\n",
    "rows,cols = (32, 32)\n",
    "M = np.float32([[1,0,2],[0,1,2]])\n",
    "dst = cv2.warpAffine(img,M,(cols,rows))\n",
    "plt.imshow(dst, cmap=plt.cm.binary)\n",
    "plt.show()"
   ]
  },
  {
   "cell_type": "code",
   "execution_count": 19,
   "metadata": {},
   "outputs": [
    {
     "name": "stdout",
     "output_type": "stream",
     "text": [
      "Transformation: Panning\n",
      "Shannon Treshold : < 0.001\n",
      "Number of inputs:  523\n",
      "Error Rate:  0.028680688336520075\n"
     ]
    }
   ],
   "source": [
    "print(\"Transformation: Panning\")\n",
    "cols,rows = 32, 32\n",
    "count_made_false_low_shannon_true = 0\n",
    "x_train, y_train = reload_train(MINI_DATASET_TEST, MINI_DATASET_N)\n",
    "for i in low_shannon_true:\n",
    "    img = x_train[i]\n",
    "    label = y_train[i]\n",
    "    img = (np.expand_dims(img,0))\n",
    "    img_pred = activation_model.predict(img)[7][0]\n",
    "    \n",
    "    dst = cv2.warpAffine(x_train[i],M,(32,32)).reshape(32,32,1)\n",
    "    dst = (np.expand_dims(dst,0))\n",
    "    dst_pred = activation_model.predict(dst)[7][0]\n",
    "    \n",
    "    if (np.argmax(img_pred) != np.argmax(dst_pred)):\n",
    "        count_made_false_low_shannon_true += 1\n",
    "        \n",
    "if VERBOSE:\n",
    "    print(\"Shannon Treshold : < 0.001\")        \n",
    "    print(\"Number of inputs: \", len(low_shannon_true))        \n",
    "print(\"Error Rate: \", (count_made_false_low_shannon_true*1.0)/len(low_shannon_true))"
   ]
  },
  {
   "cell_type": "code",
   "execution_count": 20,
   "metadata": {},
   "outputs": [
    {
     "name": "stdout",
     "output_type": "stream",
     "text": [
      "Transformation: Panning\n",
      "Shannon Treshold : > 0.01\n",
      "Number of inputs:  310\n",
      "Error Rates : 0.31290322580645163\n",
      "\n",
      "Shannon Treshold : > 0.025\n",
      "Number of inputs:  250\n",
      "Error Rates : 0.36\n",
      "\n",
      "Shannon Treshold : > 0.05\n",
      "Number of inputs:  208\n",
      "Error Rates : 0.375\n",
      "\n",
      "Shannon Treshold : > 0.1\n",
      "Number of inputs:  167\n",
      "Error Rates : 0.38922155688622756\n",
      "\n",
      "Shannon Treshold : > 0.2\n",
      "Number of inputs:  118\n",
      "Error Rates : 0.3983050847457627\n",
      "\n",
      "Shannon Treshold : > 0.3\n",
      "Number of inputs:  88\n",
      "Error Rates : 0.42045454545454547\n",
      "\n",
      "Shannon Treshold : > 0.4\n",
      "Number of inputs:  76\n",
      "Error Rates : 0.4342105263157895\n",
      "\n",
      "Shannon Treshold : > 0.5\n",
      "Number of inputs:  61\n",
      "Error Rates : 0.45901639344262296\n",
      "\n",
      "Shannon Treshold : > 0.6\n",
      "Number of inputs:  51\n",
      "Error Rates : 0.5098039215686274\n",
      "\n",
      "Shannon Treshold : > 0.7\n",
      "Number of inputs:  36\n",
      "Error Rates : 0.4722222222222222\n",
      "\n",
      "Shannon Treshold : > 0.8\n",
      "Number of inputs:  28\n",
      "Error Rates : 0.5\n",
      "\n",
      "Shannon Treshold : > 0.9\n",
      "Number of inputs:  25\n",
      "Error Rates : 0.52\n",
      "\n",
      "Shannon Treshold : > 1.0\n",
      "Number of inputs:  19\n",
      "Error Rates : 0.5789473684210527\n",
      "\n"
     ]
    }
   ],
   "source": [
    "print(\"Transformation: Panning\")\n",
    "thresholds = [0.01, 0.025, 0.05, 0.1, 0.2, 0.3, 0.4, 0.5, 0.6, 0.7, 0.8, 0.9, 1.0]\n",
    "\n",
    "for threshold in thresholds:\n",
    "    high_shannon_true = []\n",
    "    x_train, y_train = reload_train(MINI_DATASET_TEST, MINI_DATASET_N)\n",
    "\n",
    "    for i, shannon_index in enumerate(all_shannons):\n",
    "        if shannon_index > threshold and (np.argmax(all_acts[i]) == np.argmax(y_train[i])) : \n",
    "            high_shannon_true.append(i)\n",
    "\n",
    "    if VERBOSE:\n",
    "        print(\"Shannon Treshold : >\", threshold)\n",
    "        print(\"Number of inputs: \", len(high_shannon_true))\n",
    "\n",
    "\n",
    "    count_made_false_high_shannon_true = 0\n",
    "    for i in high_shannon_true:\n",
    "        img = x_train[i]\n",
    "        label = y_train[i]\n",
    "        img = (np.expand_dims(img,0))\n",
    "        img_pred = activation_model.predict(img)[7][0]\n",
    "\n",
    "        dst = cv2.warpAffine(x_train[i],M,(32,32)).reshape(32,32,1)\n",
    "        dst = (np.expand_dims(dst,0))\n",
    "        dst_pred = activation_model.predict(dst)[7][0]\n",
    "        if (np.argmax(img_pred) != np.argmax(dst_pred)):\n",
    "            count_made_false_high_shannon_true += 1\n",
    "            \n",
    "    if VERBOSE:       \n",
    "        print(\"Error Rates :\", (count_made_false_high_shannon_true*1.0)/len(high_shannon_true))\n",
    "        print(\"\")\n",
    "    \n",
    "    if not VERBOSE:\n",
    "        print((count_made_false_high_shannon_true*1.0)/len(high_shannon_true))\n",
    "\n",
    "    "
   ]
  },
  {
   "cell_type": "code",
   "execution_count": 21,
   "metadata": {},
   "outputs": [
    {
     "name": "stdout",
     "output_type": "stream",
     "text": [
      "Transformation: 2D rotation\n"
     ]
    },
    {
     "data": {
      "image/png": "[encoded data removed]",
      "text/plain": [
       "<Figure size 432x288 with 1 Axes>"
      ]
     },
     "metadata": {
      "needs_background": "light"
     },
     "output_type": "display_data"
    }
   ],
   "source": [
    "print(\"Transformation: 2D rotation\")\n",
    "x_train, y_train = reload_train(MINI_DATASET_TEST, MINI_DATASET_N)\n",
    "rows,cols = (32, 32)\n",
    "M = cv2.getRotationMatrix2D((cols/2,rows/2),30,1)\n",
    "img = x_train[0]\n",
    "dst = cv2.warpAffine(img,M,(cols,rows))\n",
    "plt.imshow(dst, cmap=plt.cm.binary)\n",
    "plt.show()"
   ]
  },
  {
   "cell_type": "code",
   "execution_count": 22,
   "metadata": {},
   "outputs": [
    {
     "name": "stdout",
     "output_type": "stream",
     "text": [
      "Transformation: 2D rotation\n",
      "Shannon Treshold : < 0.001\n",
      "Number of inputs:  523\n",
      "Error Rate:  0.4321223709369025\n"
     ]
    }
   ],
   "source": [
    "print(\"Transformation: 2D rotation\")\n",
    "cols,rows = 32, 32\n",
    "count_made_false_low_shannon_true = 0\n",
    "x_train, y_train = reload_train(MINI_DATASET_TEST, MINI_DATASET_N)\n",
    "for i in low_shannon_true:\n",
    "    img = x_train[i]\n",
    "    label = y_train[i]\n",
    "    img = (np.expand_dims(img,0))\n",
    "    img_pred = activation_model.predict(img)[7][0]\n",
    "    \n",
    "    dst = cv2.warpAffine(x_train[i],M,(32,32)).reshape(32,32,1)\n",
    "    dst = (np.expand_dims(dst,0))\n",
    "    dst_pred = activation_model.predict(dst)[7][0]\n",
    "    \n",
    "    if (np.argmax(img_pred) != np.argmax(dst_pred)):\n",
    "        count_made_false_low_shannon_true += 1\n",
    "\n",
    "if VERBOSE:\n",
    "    print(\"Shannon Treshold : < 0.001\")        \n",
    "    print(\"Number of inputs: \", len(low_shannon_true))\n",
    "    \n",
    "print(\"Error Rate: \", (count_made_false_low_shannon_true*1.0)/len(low_shannon_true))"
   ]
  },
  {
   "cell_type": "code",
   "execution_count": 23,
   "metadata": {},
   "outputs": [
    {
     "name": "stdout",
     "output_type": "stream",
     "text": [
      "Transformation: 2D rotation\n",
      "Shannon Treshold : > 0.01\n",
      "Number of inputs:  310\n",
      "Error Rates : 0.7322580645161291\n",
      "\n",
      "Shannon Treshold : > 0.025\n",
      "Number of inputs:  250\n",
      "Error Rates : 0.76\n",
      "\n",
      "Shannon Treshold : > 0.05\n",
      "Number of inputs:  208\n",
      "Error Rates : 0.7932692307692307\n",
      "\n",
      "Shannon Treshold : > 0.1\n",
      "Number of inputs:  167\n",
      "Error Rates : 0.8143712574850299\n",
      "\n",
      "Shannon Treshold : > 0.2\n",
      "Number of inputs:  118\n",
      "Error Rates : 0.8389830508474576\n",
      "\n",
      "Shannon Treshold : > 0.3\n",
      "Number of inputs:  88\n",
      "Error Rates : 0.8636363636363636\n",
      "\n",
      "Shannon Treshold : > 0.4\n",
      "Number of inputs:  76\n",
      "Error Rates : 0.881578947368421\n",
      "\n",
      "Shannon Treshold : > 0.5\n",
      "Number of inputs:  61\n",
      "Error Rates : 0.8852459016393442\n",
      "\n",
      "Shannon Treshold : > 0.6\n",
      "Number of inputs:  51\n",
      "Error Rates : 0.9215686274509803\n",
      "\n",
      "Shannon Treshold : > 0.7\n",
      "Number of inputs:  36\n",
      "Error Rates : 0.9444444444444444\n",
      "\n",
      "Shannon Treshold : > 0.8\n",
      "Number of inputs:  28\n",
      "Error Rates : 0.9642857142857143\n",
      "\n",
      "Shannon Treshold : > 0.9\n",
      "Number of inputs:  25\n",
      "Error Rates : 0.96\n",
      "\n",
      "Shannon Treshold : > 1.0\n",
      "Number of inputs:  19\n",
      "Error Rates : 1.0\n",
      "\n"
     ]
    }
   ],
   "source": [
    "print(\"Transformation: 2D rotation\")\n",
    "thresholds = [0.01, 0.025, 0.05, 0.1, 0.2, 0.3, 0.4, 0.5, 0.6, 0.7, 0.8, 0.9, 1.0]\n",
    "\n",
    "for threshold in thresholds:\n",
    "    high_shannon_true = []\n",
    "    x_train, y_train = reload_train(MINI_DATASET_TEST, MINI_DATASET_N)\n",
    "\n",
    "    for i, shannon_index in enumerate(all_shannons):\n",
    "        if shannon_index > threshold and (np.argmax(all_acts[i]) == np.argmax(y_train[i])) : \n",
    "            high_shannon_true.append(i)\n",
    "    \n",
    "    if VERBOSE:\n",
    "        print(\"Shannon Treshold : >\", threshold)\n",
    "        print(\"Number of inputs: \", len(high_shannon_true))\n",
    "\n",
    "\n",
    "    count_made_false_high_shannon_true = 0\n",
    "    for i in high_shannon_true:\n",
    "        img = x_train[i]\n",
    "        label = y_train[i]\n",
    "        img = (np.expand_dims(img,0))\n",
    "        img_pred = activation_model.predict(img)[7][0]\n",
    "\n",
    "        dst = cv2.warpAffine(x_train[i],M,(32,32)).reshape(32,32,1)\n",
    "        dst = (np.expand_dims(dst,0))\n",
    "        dst_pred = activation_model.predict(dst)[7][0]\n",
    "        if (np.argmax(img_pred) != np.argmax(dst_pred)):\n",
    "            count_made_false_high_shannon_true += 1\n",
    "            \n",
    "        \n",
    "    if VERBOSE:       \n",
    "        print(\"Error Rates :\", (count_made_false_high_shannon_true*1.0)/len(high_shannon_true))\n",
    "        print(\"\")\n",
    "    \n",
    "    if not VERBOSE:\n",
    "        print((count_made_false_high_shannon_true*1.0)/len(high_shannon_true))\n",
    "\n",
    "    "
   ]
  },
  {
   "cell_type": "code",
   "execution_count": 24,
   "metadata": {},
   "outputs": [
    {
     "name": "stdout",
     "output_type": "stream",
     "text": [
      "Transformation: Affine\n"
     ]
    },
    {
     "data": {
      "image/png": "[encoded data removed]",
      "text/plain": [
       "<Figure size 432x288 with 1 Axes>"
      ]
     },
     "metadata": {
      "needs_background": "light"
     },
     "output_type": "display_data"
    }
   ],
   "source": [
    "print(\"Transformation: Affine\")\n",
    "rows,cols = (32, 32)\n",
    "x_train, y_train = reload_train(MINI_DATASET_TEST, MINI_DATASET_N)\n",
    "pts1 = np.float32([[5,5],[28,5],[5,28]])\n",
    "pts2 = np.float32([[1,10],[20,5],[10,25]])\n",
    "M = cv2.getAffineTransform(pts1,pts2)\n",
    "img = x_train[0]\n",
    "dst = cv2.warpAffine(img,M,(cols,rows))\n",
    "plt.imshow(dst, cmap=plt.cm.binary)\n",
    "plt.show()"
   ]
  },
  {
   "cell_type": "code",
   "execution_count": 25,
   "metadata": {},
   "outputs": [
    {
     "name": "stdout",
     "output_type": "stream",
     "text": [
      "Transformation: Affine\n",
      "Shannon Treshold : < 0.001\n",
      "Number of inputs:  523\n",
      "Error Rate:  0.5793499043977055\n"
     ]
    }
   ],
   "source": [
    "print(\"Transformation: Affine\")\n",
    "cols,rows = 32, 32\n",
    "count_made_false_low_shannon_true = 0\n",
    "x_train, y_train = reload_train(MINI_DATASET_TEST, MINI_DATASET_N)\n",
    "for i in low_shannon_true:\n",
    "    img = x_train[i]\n",
    "    label = y_train[i]\n",
    "    img = (np.expand_dims(img,0))\n",
    "    img_pred = activation_model.predict(img)[7][0]\n",
    "    \n",
    "    dst = cv2.warpAffine(x_train[i],M,(32,32)).reshape(32,32,1)\n",
    "    dst = (np.expand_dims(dst,0))\n",
    "    dst_pred = activation_model.predict(dst)[7][0]\n",
    "    \n",
    "    if (np.argmax(img_pred) != np.argmax(dst_pred)):\n",
    "        count_made_false_low_shannon_true += 1\n",
    "\n",
    "if VERBOSE:\n",
    "    print(\"Shannon Treshold : < 0.001\")        \n",
    "    print(\"Number of inputs: \", len(low_shannon_true))\n",
    "    \n",
    "print(\"Error Rate: \", (count_made_false_low_shannon_true*1.0)/len(low_shannon_true))"
   ]
  },
  {
   "cell_type": "code",
   "execution_count": 26,
   "metadata": {},
   "outputs": [
    {
     "name": "stdout",
     "output_type": "stream",
     "text": [
      "Transformation: Affine\n",
      "Shannon Treshold : > 0.01\n",
      "Number of inputs:  310\n",
      "Error Rates : 0.7935483870967742\n",
      "\n",
      "Shannon Treshold : > 0.025\n",
      "Number of inputs:  250\n",
      "Error Rates : 0.812\n",
      "\n",
      "Shannon Treshold : > 0.05\n",
      "Number of inputs:  208\n",
      "Error Rates : 0.8221153846153846\n",
      "\n",
      "Shannon Treshold : > 0.1\n",
      "Number of inputs:  167\n",
      "Error Rates : 0.8263473053892215\n",
      "\n",
      "Shannon Treshold : > 0.2\n",
      "Number of inputs:  118\n",
      "Error Rates : 0.8389830508474576\n",
      "\n",
      "Shannon Treshold : > 0.3\n",
      "Number of inputs:  88\n",
      "Error Rates : 0.8409090909090909\n",
      "\n",
      "Shannon Treshold : > 0.4\n",
      "Number of inputs:  76\n",
      "Error Rates : 0.8289473684210527\n",
      "\n",
      "Shannon Treshold : > 0.5\n",
      "Number of inputs:  61\n",
      "Error Rates : 0.8688524590163934\n",
      "\n",
      "Shannon Treshold : > 0.6\n",
      "Number of inputs:  51\n",
      "Error Rates : 0.8627450980392157\n",
      "\n",
      "Shannon Treshold : > 0.7\n",
      "Number of inputs:  36\n",
      "Error Rates : 0.8888888888888888\n",
      "\n",
      "Shannon Treshold : > 0.8\n",
      "Number of inputs:  28\n",
      "Error Rates : 0.9285714285714286\n",
      "\n",
      "Shannon Treshold : > 0.9\n",
      "Number of inputs:  25\n",
      "Error Rates : 0.92\n",
      "\n",
      "Shannon Treshold : > 1.0\n",
      "Number of inputs:  19\n",
      "Error Rates : 1.0\n",
      "\n"
     ]
    }
   ],
   "source": [
    "print(\"Transformation: Affine\")\n",
    "thresholds = [0.01, 0.025, 0.05, 0.1, 0.2, 0.3, 0.4, 0.5, 0.6, 0.7, 0.8, 0.9, 1.0]\n",
    "\n",
    "for threshold in thresholds:\n",
    "    high_shannon_true = []\n",
    "    x_train, y_train = reload_train(MINI_DATASET_TEST, MINI_DATASET_N)\n",
    "\n",
    "    for i, shannon_index in enumerate(all_shannons):\n",
    "        if shannon_index > threshold and (np.argmax(all_acts[i]) == np.argmax(y_train[i])) : \n",
    "            high_shannon_true.append(i)\n",
    "    \n",
    "    if VERBOSE:\n",
    "        print(\"Shannon Treshold : >\", threshold)\n",
    "        print(\"Number of inputs: \", len(high_shannon_true))\n",
    "\n",
    "\n",
    "    count_made_false_high_shannon_true = 0\n",
    "    for i in high_shannon_true:\n",
    "        img = x_train[i]\n",
    "        label = y_train[i]\n",
    "        img = (np.expand_dims(img,0))\n",
    "        img_pred = activation_model.predict(img)[7][0]\n",
    "\n",
    "        dst = cv2.warpAffine(x_train[i],M,(32,32)).reshape(32,32,1)\n",
    "        dst = (np.expand_dims(dst,0))\n",
    "        dst_pred = activation_model.predict(dst)[7][0]\n",
    "        if (np.argmax(img_pred) != np.argmax(dst_pred)):\n",
    "            count_made_false_high_shannon_true += 1\n",
    "            \n",
    "        \n",
    "    if VERBOSE:       \n",
    "        print(\"Error Rates :\", (count_made_false_high_shannon_true*1.0)/len(high_shannon_true))\n",
    "        print(\"\")\n",
    "    \n",
    "    if not VERBOSE:\n",
    "        print((count_made_false_high_shannon_true*1.0)/len(high_shannon_true))\n",
    "\n",
    "    "
   ]
  },
  {
   "cell_type": "code",
   "execution_count": 27,
   "metadata": {},
   "outputs": [
    {
     "name": "stdout",
     "output_type": "stream",
     "text": [
      "Transformation: Perspective\n"
     ]
    },
    {
     "data": {
      "image/png": "[encoded data removed]",
      "text/plain": [
       "<Figure size 432x288 with 1 Axes>"
      ]
     },
     "metadata": {
      "needs_background": "light"
     },
     "output_type": "display_data"
    }
   ],
   "source": [
    "print(\"Transformation: Perspective\")\n",
    "rows,cols = (32, 32)\n",
    "x_train, y_train = reload_train(MINI_DATASET_TEST, MINI_DATASET_N)\n",
    "pts1 = np.float32([[5,5],[28,5],[5,28],[28,28]])\n",
    "pts2 = np.float32([[0,0],[32,0],[0,32],[32,32]])\n",
    "M = cv2.getPerspectiveTransform(pts1,pts2)\n",
    "img = x_train[0]\n",
    "dst = cv2.warpPerspective(img,M,(cols,rows))\n",
    "plt.imshow(dst, cmap=plt.cm.binary)\n",
    "plt.show()"
   ]
  },
  {
   "cell_type": "code",
   "execution_count": 28,
   "metadata": {},
   "outputs": [
    {
     "name": "stdout",
     "output_type": "stream",
     "text": [
      "Transformation: Perspective\n",
      "Shannon Treshold : < 0.001\n",
      "Number of inputs:  523\n",
      "Error Rate:  0.13193116634799235\n"
     ]
    }
   ],
   "source": [
    "print(\"Transformation: Perspective\")\n",
    "cols,rows = 32, 32\n",
    "count_made_false_low_shannon_true = 0\n",
    "x_train, y_train = reload_train(MINI_DATASET_TEST, MINI_DATASET_N)\n",
    "for i in low_shannon_true:\n",
    "    img = x_train[i]\n",
    "    label = y_train[i]\n",
    "    img = (np.expand_dims(img,0))\n",
    "    img_pred = activation_model.predict(img)[7][0]\n",
    "    \n",
    "    dst = cv2.warpPerspective(x_train[i],M,(32,32)).reshape(32,32,1)\n",
    "    dst = (np.expand_dims(dst,0))\n",
    "    dst_pred = activation_model.predict(dst)[7][0]\n",
    "    \n",
    "    if (np.argmax(img_pred) != np.argmax(dst_pred)):\n",
    "        count_made_false_low_shannon_true += 1\n",
    "\n",
    "if VERBOSE:\n",
    "    print(\"Shannon Treshold : < 0.001\")        \n",
    "    print(\"Number of inputs: \", len(low_shannon_true))\n",
    "    \n",
    "print(\"Error Rate: \", (count_made_false_low_shannon_true*1.0)/len(low_shannon_true))"
   ]
  },
  {
   "cell_type": "code",
   "execution_count": 29,
   "metadata": {},
   "outputs": [
    {
     "name": "stdout",
     "output_type": "stream",
     "text": [
      "Transformation: Perspective\n",
      "Shannon Treshold : > 0.01\n",
      "Number of inputs:  310\n",
      "Error Rates : 0.3741935483870968\n",
      "\n",
      "Shannon Treshold : > 0.025\n",
      "Number of inputs:  250\n",
      "Error Rates : 0.408\n",
      "\n",
      "Shannon Treshold : > 0.05\n",
      "Number of inputs:  208\n",
      "Error Rates : 0.44711538461538464\n",
      "\n",
      "Shannon Treshold : > 0.1\n",
      "Number of inputs:  167\n",
      "Error Rates : 0.4491017964071856\n",
      "\n",
      "Shannon Treshold : > 0.2\n",
      "Number of inputs:  118\n",
      "Error Rates : 0.5254237288135594\n",
      "\n",
      "Shannon Treshold : > 0.3\n",
      "Number of inputs:  88\n",
      "Error Rates : 0.6022727272727273\n",
      "\n",
      "Shannon Treshold : > 0.4\n",
      "Number of inputs:  76\n",
      "Error Rates : 0.5921052631578947\n",
      "\n",
      "Shannon Treshold : > 0.5\n",
      "Number of inputs:  61\n",
      "Error Rates : 0.639344262295082\n",
      "\n",
      "Shannon Treshold : > 0.6\n",
      "Number of inputs:  51\n",
      "Error Rates : 0.7254901960784313\n",
      "\n",
      "Shannon Treshold : > 0.7\n",
      "Number of inputs:  36\n",
      "Error Rates : 0.6944444444444444\n",
      "\n",
      "Shannon Treshold : > 0.8\n",
      "Number of inputs:  28\n",
      "Error Rates : 0.6428571428571429\n",
      "\n",
      "Shannon Treshold : > 0.9\n",
      "Number of inputs:  25\n",
      "Error Rates : 0.64\n",
      "\n",
      "Shannon Treshold : > 1.0\n",
      "Number of inputs:  19\n",
      "Error Rates : 0.6842105263157895\n",
      "\n"
     ]
    }
   ],
   "source": [
    "print(\"Transformation: Perspective\")\n",
    "thresholds = [0.01, 0.025, 0.05, 0.1, 0.2, 0.3, 0.4, 0.5, 0.6, 0.7, 0.8, 0.9, 1.0]\n",
    "\n",
    "for threshold in thresholds:\n",
    "    high_shannon_true = []\n",
    "    x_train, y_train = reload_train(MINI_DATASET_TEST, MINI_DATASET_N)\n",
    "\n",
    "    for i, shannon_index in enumerate(all_shannons):\n",
    "        if shannon_index > threshold and (np.argmax(all_acts[i]) == np.argmax(y_train[i])) : \n",
    "            high_shannon_true.append(i)\n",
    "    \n",
    "    if VERBOSE:\n",
    "        print(\"Shannon Treshold : >\", threshold)\n",
    "        print(\"Number of inputs: \", len(high_shannon_true))\n",
    "\n",
    "\n",
    "    count_made_false_high_shannon_true = 0\n",
    "    for i in high_shannon_true:\n",
    "        img = x_train[i]\n",
    "        label = y_train[i]\n",
    "        img = (np.expand_dims(img,0))\n",
    "        img_pred = activation_model.predict(img)[7][0]\n",
    "\n",
    "        dst = cv2.warpPerspective(x_train[i],M,(32,32)).reshape(32,32,1)\n",
    "        dst = (np.expand_dims(dst,0))\n",
    "        dst_pred = activation_model.predict(dst)[7][0]\n",
    "        if (np.argmax(img_pred) != np.argmax(dst_pred)):\n",
    "            count_made_false_high_shannon_true += 1\n",
    "            \n",
    "        \n",
    "    if VERBOSE:       \n",
    "        print(\"Error Rates :\", (count_made_false_high_shannon_true*1.0)/len(high_shannon_true))\n",
    "        print(\"\")\n",
    "    \n",
    "    if not VERBOSE:\n",
    "        print((count_made_false_high_shannon_true*1.0)/len(high_shannon_true))\n",
    "\n",
    "    "
   ]
  },
  {
   "cell_type": "code",
   "execution_count": null,
   "metadata": {},
   "outputs": [],
   "source": []
  }
 ],
 "metadata": {
  "kernelspec": {
   "display_name": "Python 3",
   "language": "python",
   "name": "python3"
  },
  "language_info": {
   "codemirror_mode": {
    "name": "ipython",
    "version": 3
   },
   "file_extension": ".py",
   "mimetype": "text/x-python",
   "name": "python",
   "nbconvert_exporter": "python",
   "pygments_lexer": "ipython3",
   "version": "3.7.3"
  }
 },
 "nbformat": 4,
 "nbformat_minor": 2
}
